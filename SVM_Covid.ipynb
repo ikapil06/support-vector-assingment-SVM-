{
  "nbformat": 4,
  "nbformat_minor": 0,
  "metadata": {
    "colab": {
      "provenance": []
    },
    "kernelspec": {
      "name": "python3",
      "display_name": "Python 3"
    },
    "language_info": {
      "name": "python"
    }
  },
  "cells": [
    {
      "cell_type": "markdown",
      "source": [
        "Importing Libraries "
      ],
      "metadata": {
        "id": "HsJjTcORFQM8"
      }
    },
    {
      "cell_type": "code",
      "source": [
        "# Libraries\n",
        "import numpy as np\n",
        "import pandas as pd\n",
        "import seaborn as sns\n",
        "import matplotlib.pyplot as plt\n",
        "\n",
        "#  Natural Language Processing Libraries\n",
        "import re\n",
        "import nltk\n",
        "from nltk import word_tokenize\n",
        "from nltk.tokenize import sent_tokenize\n",
        "from nltk.stem import SnowballStemmer\n",
        "import string\n",
        "from string import punctuation\n",
        "from nltk.corpus import stopwords\n",
        "nltk.download('stopwords')\n",
        "nltk.download('punkt')\n",
        "\n",
        "stop_words = set(stopwords.words('english'))\n",
        "punctuation = punctuation + '\\n' + '—' + '“' + ',' + '”' + '‘' + '-' + '’'\n",
        "\n",
        "#Required Libraries for Modeling the data\n",
        "from sklearn.model_selection import train_test_split\n",
        "from sklearn.feature_extraction.text import TfidfVectorizer\n",
        "from sklearn.svm import SVC\n",
        "from sklearn.metrics import accuracy_score\n",
        "from sklearn.metrics import ConfusionMatrixDisplay,classification_report\n"
      ],
      "metadata": {
        "id": "NlCGtxcTFPvh",
        "colab": {
          "base_uri": "https://localhost:8080/"
        },
        "outputId": "fb45a027-2a86-4cf4-fe17-8b004e76fdfe"
      },
      "execution_count": null,
      "outputs": [
        {
          "output_type": "stream",
          "name": "stderr",
          "text": [
            "[nltk_data] Downloading package stopwords to /root/nltk_data...\n",
            "[nltk_data]   Package stopwords is already up-to-date!\n",
            "[nltk_data] Downloading package punkt to /root/nltk_data...\n",
            "[nltk_data]   Package punkt is already up-to-date!\n"
          ]
        }
      ]
    },
    {
      "cell_type": "markdown",
      "source": [
        "**Dataset Preview**"
      ],
      "metadata": {
        "id": "MzR8MXf10Ic3"
      }
    },
    {
      "cell_type": "code",
      "source": [
        "# dataset\n",
        "dataset=pd.read_csv(\"/content/drive/MyDrive/Colab Notebooks/dataset/COVIDSenti-A.csv\")\n",
        "dataset"
      ],
      "metadata": {
        "id": "aHeNZu4eGrgu",
        "colab": {
          "base_uri": "https://localhost:8080/",
          "height": 423
        },
        "outputId": "c88f1229-8a3f-44fe-c116-0dd14d8b22e5"
      },
      "execution_count": null,
      "outputs": [
        {
          "output_type": "execute_result",
          "data": {
            "text/plain": [
              "                                                   tweet label\n",
              "0      Coronavirus | Human Coronavirus Types | CDC ht...   neu\n",
              "1      @shehryar_taseer That‚Äôs üíØ true , \\nCorona...   neu\n",
              "2      TLDR: Not SARS, possibly new coronavirus. Diff...   neg\n",
              "3      Disease outbreak news from the WHO: Middle Eas...   neu\n",
              "4      China - Media: WSJ says sources tell them myst...   neu\n",
              "...                                                  ...   ...\n",
              "29995  CDC: Re-test confirms Westerdam cruise ship pa...   neu\n",
              "29996  Two doctors die of coronavirus within 24 hours...   neu\n",
              "29997  BEIJING - The lockdown of Guo Jing's neighbour...   neu\n",
              "29998  #CoronavirusOutbreak in #Balochistan !!\\n#CPEC...   neu\n",
              "29999  The Australian dollar has hit a fresh decade l...   neu\n",
              "\n",
              "[30000 rows x 2 columns]"
            ],
            "text/html": [
              "\n",
              "  <div id=\"df-68131491-bd7d-4947-b920-4a5c9d5b1cd9\">\n",
              "    <div class=\"colab-df-container\">\n",
              "      <div>\n",
              "<style scoped>\n",
              "    .dataframe tbody tr th:only-of-type {\n",
              "        vertical-align: middle;\n",
              "    }\n",
              "\n",
              "    .dataframe tbody tr th {\n",
              "        vertical-align: top;\n",
              "    }\n",
              "\n",
              "    .dataframe thead th {\n",
              "        text-align: right;\n",
              "    }\n",
              "</style>\n",
              "<table border=\"1\" class=\"dataframe\">\n",
              "  <thead>\n",
              "    <tr style=\"text-align: right;\">\n",
              "      <th></th>\n",
              "      <th>tweet</th>\n",
              "      <th>label</th>\n",
              "    </tr>\n",
              "  </thead>\n",
              "  <tbody>\n",
              "    <tr>\n",
              "      <th>0</th>\n",
              "      <td>Coronavirus | Human Coronavirus Types | CDC ht...</td>\n",
              "      <td>neu</td>\n",
              "    </tr>\n",
              "    <tr>\n",
              "      <th>1</th>\n",
              "      <td>@shehryar_taseer That‚Äôs üíØ true , \\nCorona...</td>\n",
              "      <td>neu</td>\n",
              "    </tr>\n",
              "    <tr>\n",
              "      <th>2</th>\n",
              "      <td>TLDR: Not SARS, possibly new coronavirus. Diff...</td>\n",
              "      <td>neg</td>\n",
              "    </tr>\n",
              "    <tr>\n",
              "      <th>3</th>\n",
              "      <td>Disease outbreak news from the WHO: Middle Eas...</td>\n",
              "      <td>neu</td>\n",
              "    </tr>\n",
              "    <tr>\n",
              "      <th>4</th>\n",
              "      <td>China - Media: WSJ says sources tell them myst...</td>\n",
              "      <td>neu</td>\n",
              "    </tr>\n",
              "    <tr>\n",
              "      <th>...</th>\n",
              "      <td>...</td>\n",
              "      <td>...</td>\n",
              "    </tr>\n",
              "    <tr>\n",
              "      <th>29995</th>\n",
              "      <td>CDC: Re-test confirms Westerdam cruise ship pa...</td>\n",
              "      <td>neu</td>\n",
              "    </tr>\n",
              "    <tr>\n",
              "      <th>29996</th>\n",
              "      <td>Two doctors die of coronavirus within 24 hours...</td>\n",
              "      <td>neu</td>\n",
              "    </tr>\n",
              "    <tr>\n",
              "      <th>29997</th>\n",
              "      <td>BEIJING - The lockdown of Guo Jing's neighbour...</td>\n",
              "      <td>neu</td>\n",
              "    </tr>\n",
              "    <tr>\n",
              "      <th>29998</th>\n",
              "      <td>#CoronavirusOutbreak in #Balochistan !!\\n#CPEC...</td>\n",
              "      <td>neu</td>\n",
              "    </tr>\n",
              "    <tr>\n",
              "      <th>29999</th>\n",
              "      <td>The Australian dollar has hit a fresh decade l...</td>\n",
              "      <td>neu</td>\n",
              "    </tr>\n",
              "  </tbody>\n",
              "</table>\n",
              "<p>30000 rows × 2 columns</p>\n",
              "</div>\n",
              "      <button class=\"colab-df-convert\" onclick=\"convertToInteractive('df-68131491-bd7d-4947-b920-4a5c9d5b1cd9')\"\n",
              "              title=\"Convert this dataframe to an interactive table.\"\n",
              "              style=\"display:none;\">\n",
              "        \n",
              "  <svg xmlns=\"http://www.w3.org/2000/svg\" height=\"24px\"viewBox=\"0 0 24 24\"\n",
              "       width=\"24px\">\n",
              "    <path d=\"M0 0h24v24H0V0z\" fill=\"none\"/>\n",
              "    <path d=\"M18.56 5.44l.94 2.06.94-2.06 2.06-.94-2.06-.94-.94-2.06-.94 2.06-2.06.94zm-11 1L8.5 8.5l.94-2.06 2.06-.94-2.06-.94L8.5 2.5l-.94 2.06-2.06.94zm10 10l.94 2.06.94-2.06 2.06-.94-2.06-.94-.94-2.06-.94 2.06-2.06.94z\"/><path d=\"M17.41 7.96l-1.37-1.37c-.4-.4-.92-.59-1.43-.59-.52 0-1.04.2-1.43.59L10.3 9.45l-7.72 7.72c-.78.78-.78 2.05 0 2.83L4 21.41c.39.39.9.59 1.41.59.51 0 1.02-.2 1.41-.59l7.78-7.78 2.81-2.81c.8-.78.8-2.07 0-2.86zM5.41 20L4 18.59l7.72-7.72 1.47 1.35L5.41 20z\"/>\n",
              "  </svg>\n",
              "      </button>\n",
              "      \n",
              "  <style>\n",
              "    .colab-df-container {\n",
              "      display:flex;\n",
              "      flex-wrap:wrap;\n",
              "      gap: 12px;\n",
              "    }\n",
              "\n",
              "    .colab-df-convert {\n",
              "      background-color: #E8F0FE;\n",
              "      border: none;\n",
              "      border-radius: 50%;\n",
              "      cursor: pointer;\n",
              "      display: none;\n",
              "      fill: #1967D2;\n",
              "      height: 32px;\n",
              "      padding: 0 0 0 0;\n",
              "      width: 32px;\n",
              "    }\n",
              "\n",
              "    .colab-df-convert:hover {\n",
              "      background-color: #E2EBFA;\n",
              "      box-shadow: 0px 1px 2px rgba(60, 64, 67, 0.3), 0px 1px 3px 1px rgba(60, 64, 67, 0.15);\n",
              "      fill: #174EA6;\n",
              "    }\n",
              "\n",
              "    [theme=dark] .colab-df-convert {\n",
              "      background-color: #3B4455;\n",
              "      fill: #D2E3FC;\n",
              "    }\n",
              "\n",
              "    [theme=dark] .colab-df-convert:hover {\n",
              "      background-color: #434B5C;\n",
              "      box-shadow: 0px 1px 3px 1px rgba(0, 0, 0, 0.15);\n",
              "      filter: drop-shadow(0px 1px 2px rgba(0, 0, 0, 0.3));\n",
              "      fill: #FFFFFF;\n",
              "    }\n",
              "  </style>\n",
              "\n",
              "      <script>\n",
              "        const buttonEl =\n",
              "          document.querySelector('#df-68131491-bd7d-4947-b920-4a5c9d5b1cd9 button.colab-df-convert');\n",
              "        buttonEl.style.display =\n",
              "          google.colab.kernel.accessAllowed ? 'block' : 'none';\n",
              "\n",
              "        async function convertToInteractive(key) {\n",
              "          const element = document.querySelector('#df-68131491-bd7d-4947-b920-4a5c9d5b1cd9');\n",
              "          const dataTable =\n",
              "            await google.colab.kernel.invokeFunction('convertToInteractive',\n",
              "                                                     [key], {});\n",
              "          if (!dataTable) return;\n",
              "\n",
              "          const docLinkHtml = 'Like what you see? Visit the ' +\n",
              "            '<a target=\"_blank\" href=https://colab.research.google.com/notebooks/data_table.ipynb>data table notebook</a>'\n",
              "            + ' to learn more about interactive tables.';\n",
              "          element.innerHTML = '';\n",
              "          dataTable['output_type'] = 'display_data';\n",
              "          await google.colab.output.renderOutput(dataTable, element);\n",
              "          const docLink = document.createElement('div');\n",
              "          docLink.innerHTML = docLinkHtml;\n",
              "          element.appendChild(docLink);\n",
              "        }\n",
              "      </script>\n",
              "    </div>\n",
              "  </div>\n",
              "  "
            ]
          },
          "metadata": {},
          "execution_count": 42
        }
      ]
    },
    {
      "cell_type": "markdown",
      "source": [
        "Dataset consists of the tweets of the response from people w.r.t Corona virus and their reaction are recorded as Positive, Negative Aand Neural.\n"
      ],
      "metadata": {
        "id": "1LvbpsDi0jVO"
      }
    },
    {
      "cell_type": "markdown",
      "source": [
        "**Exploratory Data Analysis**"
      ],
      "metadata": {
        "id": "eFCNH6HK1ELF"
      }
    },
    {
      "cell_type": "code",
      "source": [
        "# Shape of the dataset\n",
        "print (\"The shape of the dataset : \", dataset.shape)"
      ],
      "metadata": {
        "colab": {
          "base_uri": "https://localhost:8080/"
        },
        "id": "-J-e9r0VG_is",
        "outputId": "e1c81fff-b7a9-4c63-bc9f-f0ec82a413d9"
      },
      "execution_count": null,
      "outputs": [
        {
          "output_type": "stream",
          "name": "stdout",
          "text": [
            "The shape of the dataset :  (30000, 2)\n"
          ]
        }
      ]
    },
    {
      "cell_type": "code",
      "source": [
        "sns.countplot(x=\"label\", data=dataset,palette = \"Set2\")\n",
        "plt.show()"
      ],
      "metadata": {
        "id": "_d917O2pG_9P",
        "colab": {
          "base_uri": "https://localhost:8080/",
          "height": 279
        },
        "outputId": "2b1e0a4a-b970-433f-bacd-de87b6131e3e"
      },
      "execution_count": null,
      "outputs": [
        {
          "output_type": "display_data",
          "data": {
            "text/plain": [
              "<Figure size 432x288 with 1 Axes>"
            ],
            "image/png": "[encoded data removed]"
          },
          "metadata": {
            "needs_background": "light"
          }
        }
      ]
    },
    {
      "cell_type": "code",
      "source": [
        "# Actual tweets\n",
        "dataset['tweet']"
      ],
      "metadata": {
        "colab": {
          "base_uri": "https://localhost:8080/"
        },
        "id": "H7ZAqwZuFaTg",
        "outputId": "91d82bb3-8784-47d5-b769-c4dfac7325ed"
      },
      "execution_count": null,
      "outputs": [
        {
          "output_type": "execute_result",
          "data": {
            "text/plain": [
              "0        Coronavirus | Human Coronavirus Types | CDC ht...\n",
              "1        @shehryar_taseer That‚Äôs üíØ true , \\nCorona...\n",
              "2        TLDR: Not SARS, possibly new coronavirus. Diff...\n",
              "3        Disease outbreak news from the WHO: Middle Eas...\n",
              "4        China - Media: WSJ says sources tell them myst...\n",
              "                               ...                        \n",
              "29995    CDC: Re-test confirms Westerdam cruise ship pa...\n",
              "29996    Two doctors die of coronavirus within 24 hours...\n",
              "29997    BEIJING - The lockdown of Guo Jing's neighbour...\n",
              "29998    #CoronavirusOutbreak in #Balochistan !!\\n#CPEC...\n",
              "29999    The Australian dollar has hit a fresh decade l...\n",
              "Name: tweet, Length: 30000, dtype: object"
            ]
          },
          "metadata": {},
          "execution_count": 9
        }
      ]
    },
    {
      "cell_type": "markdown",
      "source": [
        "***Data Pre-Processing***"
      ],
      "metadata": {
        "id": "4qcQqKWA9VuE"
      }
    },
    {
      "cell_type": "code",
      "source": [
        "#dictionary for all the contractions \n",
        "\n",
        "contractions_dict = { \n",
        "  \"ain't\": \"am not\",\n",
        "  \"aren't\": \"are not\",\n",
        "  \"can't\": \"cannot\",\n",
        "  \"can't've\": \"cannot have\",\n",
        "  \"'cause\": \"because\",\n",
        "  \"could've\": \"could have\",\n",
        "  \"couldn't\": \"could not\",\n",
        "  \"couldn't've\": \"could not have\",\n",
        "  \"didn't\": \"did not\",\n",
        "  \"doesn't\": \"does not\",\n",
        "  \"doesn’t\": \"does not\",\n",
        "  \"don't\": \"do not\",\n",
        "  \"don’t\": \"do not\",\n",
        "  \"hadn't\": \"had not\",\n",
        "  \"hadn't've\": \"had not have\",\n",
        "  \"hasn't\": \"has not\",\n",
        "  \"haven't\": \"have not\",\n",
        "  \"he'd\": \"he had\",\n",
        "  \"he'll\": \"he will\",\n",
        "  \"he'll've\": \"he will have\",\n",
        "  \"he's\": \"he is\",\n",
        "  \"how'd\": \"how did\",\n",
        "  \"how'd'y\": \"how do you\",\n",
        "  \"how'll\": \"how will\",\n",
        "  \"how's\": \"how is\",\n",
        "  \"i'd\": \"i would\",\n",
        "  \"i'd've\": \"i would have\",\n",
        "  \"i'll\": \"i will\",\n",
        "  \"i'll've\": \"i will have\",\n",
        "  \"i'm\": \"i am\",\n",
        "  \"i've\": \"i have\",\n",
        "  \"isn't\": \"is not\",\n",
        "  \"it'd\": \"it would\",\n",
        "  \"it'd've\": \"it would have\",\n",
        "  \"it'll\": \"it will\",\n",
        "  \"it'll've\": \"it will have\",\n",
        "  \"it's\": \"it is\",\n",
        "  \"let's\": \"let us\",\n",
        "  \"ma'am\": \"madam\",\n",
        "  \"mayn't\": \"may not\",\n",
        "  \"might've\": \"might have\",\n",
        "  \"mightn't\": \"might not\",\n",
        "  \"mightn't've\": \"might not have\",\n",
        "  \"must've\": \"must have\",\n",
        "  \"mustn't\": \"must not\",\n",
        "  \"mustn't've\": \"must not have\",\n",
        "  \"needn't\": \"need not\",\n",
        "  \"needn't've\": \"need not have\",\n",
        "  \"o'clock\": \"of the clock\",\n",
        "  \"oughtn't\": \"ought not\",\n",
        "  \"oughtn't've\": \"ought not have\",\n",
        "  \"shan't\": \"shall not\",\n",
        "  \"sha'n't\": \"shall not\",\n",
        "  \"shan't've\": \"shall not have\",\n",
        "  \"she'd\": \"she would\",\n",
        "  \"she'd've\": \"she would have\",\n",
        "  \"she'll\": \"she will\",\n",
        "  \"she'll've\": \"she will have\",\n",
        "  \"she's\": \"she is\",\n",
        "  \"should've\": \"should have\",\n",
        "  \"shouldn't\": \"should not\",\n",
        "  \"shouldn't've\": \"should not have\",\n",
        "  \"so've\": \"so have\",\n",
        "  \"so's\": \"so is\",\n",
        "  \"that'd\": \"that would\",\n",
        "  \"that'd've\": \"that would have\",\n",
        "  \"that's\": \"that is\",\n",
        "  \"there'd\": \"there would\",\n",
        "  \"there'd've\": \"there would have\",\n",
        "  \"there's\": \"there is\",\n",
        "  \"they'd\": \"they would\",\n",
        "  \"they'd've\": \"they would have\",\n",
        "  \"they'll\": \"they will\",\n",
        "  \"they'll've\": \"they will have\",\n",
        "  \"they're\": \"they are\",\n",
        "  \"they've\": \"they have\",\n",
        "  \"to've\": \"to have\",\n",
        "  \"wasn't\": \"was not\",\n",
        "  \"we'd\": \"we would\",\n",
        "  \"we'd've\": \"we would have\",\n",
        "  \"we'll\": \"we will\",\n",
        "  \"we'll've\": \"we will have\",\n",
        "  \"we're\": \"we are\",\n",
        "  \"we've\": \"we have\",\n",
        "  \"weren't\": \"were not\",\n",
        "  \"what'll\": \"what will\",\n",
        "  \"what'll've\": \"what will have\",\n",
        "  \"what're\": \"what are\",\n",
        "  \"what's\": \"what is\",\n",
        "  \"what've\": \"what have\",\n",
        "  \"when's\": \"when is\",\n",
        "  \"when've\": \"when have\",\n",
        "  \"where'd\": \"where did\",\n",
        "  \"where's\": \"where is\",\n",
        "  \"they're\": \"they are\",\n",
        "  \"they've\": \"they have\",\n",
        "  \"to've\": \"to have\",\n",
        "  \"wasn't\": \"was not\",\n",
        "  \"we'd\": \"we would\",\n",
        "  \"we'd've\": \"we would have\",\n",
        "  \"we'll\": \"we will\",\n",
        "  \"we'll've\": \"we will have\",\n",
        "  \"we're\": \"we are\",\n",
        "  \"we've\": \"we have\",\n",
        "  \"weren't\": \"were not\",\n",
        "  \"what'll\": \"what will\",\n",
        "  \"what'll've\": \"what will have\",\n",
        "  \"what're\": \"what are\",\n",
        "  \"what's\": \"what is\",\n",
        "  \"what've\": \"what have\",\n",
        "  \"when's\": \"when is\",\n",
        "  \"when've\": \"when have\",\n",
        "  \"where'd\": \"where did\",\n",
        "  \"where's\": \"where is\",\n",
        "  \"y'all're\": \"you all are\",\n",
        "  \"y'all've\": \"you all have\",\n",
        "  \"you'd\": \"you would\",\n",
        "  \"you'd've\": \"you would have\",\n",
        "  \"you'll\": \"you will\",\n",
        "  \"you'll've\": \"you will have\",\n",
        "  \"you're\": \"you are\",\n",
        "  \"you've\": \"you have\",\n",
        "  \"ain’t\": \"am not\",\n",
        "  \"aren’t\": \"are not\",\n",
        "  \"can’t\": \"cannot\",\n",
        "  \"can’t’ve\": \"cannot have\",\n",
        "  \"’cause\": \"because\",\n",
        "  \"could’ve\": \"could have\",\n",
        "  \"couldn’t\": \"could not\",\n",
        "  \"couldn’t’ve\": \"could not have\",\n",
        "  \"didn’t\": \"did not\",\n",
        "  \"doesn’t\": \"does not\",\n",
        "  \"don’t\": \"do not\",\n",
        "  \"don’t\": \"do not\",\n",
        "  \"hadn’t\": \"had not\",\n",
        "  \"hadn’t’ve\": \"had not have\",\n",
        "  \"hasn’t\": \"has not\",\n",
        "  \"haven’t\": \"have not\",\n",
        "  \"he’d\": \"he had\",\n",
        "  \"he’d’ve\": \"he would have\",\n",
        "  \"he’ll\": \"he will\",\n",
        "  \"he’ll’ve\": \"he will have\",\n",
        "  \"he’s\": \"he is\",\n",
        "  \"how’d\": \"how did\",\n",
        "  \"how’d’y\": \"how do you\",\n",
        "  \"how’ll\": \"how will\",\n",
        "  \"how’s\": \"how is\",\n",
        "  \"i’d\": \"i would\",\n",
        "  \"i’d’ve\": \"i would have\",\n",
        "  \"i’ll\": \"i will\",\n",
        "  \"i’ll’ve\": \"i will have\",\n",
        "  \"i’m\": \"i am\",\n",
        "  \"i’ve\": \"i have\",\n",
        "  \"isn’t\": \"is not\",\n",
        "  \"it’d\": \"it would\",\n",
        "  \"it’d’ve\": \"it would have\",\n",
        "  \"it’ll\": \"it will\",\n",
        "  \"it’ll’ve\": \"it will have\",\n",
        "  \"it’s\": \"it is\",\n",
        "  \"let’s\": \"let us\",\n",
        "  \"ma’am\": \"madam\",\n",
        "  \"mayn’t\": \"may not\",\n",
        "  \"might’ve\": \"might have\",\n",
        "  \"mightn’t\": \"might not\",\n",
        "  \"mightn’t’ve\": \"might not have\",\n",
        "  \"must’ve\": \"must have\",\n",
        "  \"mustn’t\": \"must not\",\n",
        "  \"mustn’t’ve\": \"must not have\",\n",
        "  \"needn’t\": \"need not\",\n",
        "  \"needn’t’ve\": \"need not have\",\n",
        "  \"o’clock\": \"of the clock\",\n",
        "  \"oughtn’t\": \"ought not\",\n",
        "  \"oughtn’t’ve\": \"ought not have\",\n",
        "  \"shan’t\": \"shall not\",\n",
        "  \"sha’n’t\": \"shall not\",\n",
        "  \"shan’t’ve\": \"shall not have\",\n",
        "  \"she’d\": \"she would\",\n",
        "  \"she’d’ve\": \"she would have\",\n",
        "  \"she’ll\": \"she will\",\n",
        "  \"she’ll’ve\": \"she will have\",\n",
        "  \"she’s\": \"she is\",\n",
        "  \"should’ve\": \"should have\",\n",
        "  \"shouldn’t\": \"should not\",\n",
        "  \"shouldn’t’ve\": \"should not have\",\n",
        "  \"so’ve\": \"so have\",\n",
        "  \"so’s\": \"so is\",\n",
        "  \"that’d\": \"that would\",\n",
        "  \"that’d’ve\": \"that would have\",\n",
        "  \"that’s\": \"that is\",\n",
        "  \"there’d\": \"there would\",\n",
        "  \"there’d’ve\": \"there would have\",\n",
        "  \"there’s\": \"there is\",\n",
        "  \"they’d\": \"they would\",\n",
        "  \"they’d’ve\": \"they would have\",\n",
        "  \"they’ll\": \"they will\",\n",
        "  \"they’ll’ve\": \"they will have\",\n",
        "  \"they’re\": \"they are\",\n",
        "  \"they’ve\": \"they have\",\n",
        "  \"to’ve\": \"to have\",\n",
        "  \"wasn’t\": \"was not\",\n",
        "  \"we’d\": \"we would\",\n",
        "  \"we’d’ve\": \"we would have\",\n",
        "  \"we’ll\": \"we will\",\n",
        "  \"we’ll’ve\": \"we will have\",\n",
        "  \"we’re\": \"we are\",\n",
        "  \"we’ve\": \"we have\",\n",
        "  \"weren’t\": \"were not\",\n",
        "  \"what’ll\": \"what will\",\n",
        "  \"what’ll’ve\": \"what will have\",\n",
        "  \"what’re\": \"what are\",\n",
        "  \"what’s\": \"what is\",\n",
        "  \"what’ve\": \"what have\",\n",
        "  \"when’s\": \"when is\",\n",
        "  \"when’ve\": \"when have\",\n",
        "  \"where’d\": \"where did\",\n",
        "  \"where’s\": \"where is\",\n",
        "  \"where’ve\": \"where have\",\n",
        "  \"who’ll\": \"who will\",\n",
        "  \"who’ll’ve\": \"who will have\",\n",
        "  \"who’s\": \"who is\",\n",
        "  \"who’ve\": \"who have\",\n",
        "  \"why’s\": \"why is\",\n",
        "  \"why’ve\": \"why have\",\n",
        "  \"will’ve\": \"will have\",\n",
        "  \"won’t\": \"will not\",\n",
        "  \"won’t’ve\": \"will not have\",\n",
        "  \"would’ve\": \"would have\",\n",
        "  \"wouldn’t\": \"would not\",\n",
        "  \"wouldn’t’ve\": \"would not have\",\n",
        "  \"y’all\": \"you all\",\n",
        "  \"y’all\": \"you all\",\n",
        "  \"y’all’d\": \"you all would\",\n",
        "  \"y’all’d’ve\": \"you all would have\",\n",
        "  \"y’all’re\": \"you all are\",\n",
        "  \"y’all’ve\": \"you all have\",\n",
        "  \"you’d\": \"you would\",\n",
        "  \"you’d’ve\": \"you would have\",\n",
        "  \"you’ll\": \"you will\",\n",
        "  \"you’ll’ve\": \"you will have\",\n",
        "  \"you’re\": \"you are\",\n",
        "  \"you’re\": \"you are\",\n",
        "  \"you’ve\": \"you have\",\n",
        "}\n",
        "#contractions_re  is the extraction of all the key values from contractions_dict\n",
        "contractions_re = re.compile('(%s)' % '|'.join(contractions_dict.keys()))"
      ],
      "metadata": {
        "id": "omSLQSZK_QWE"
      },
      "execution_count": null,
      "outputs": []
    },
    {
      "cell_type": "code",
      "source": [
        "# Function to clean the html\n",
        "def cleanhtml(raw_html):\n",
        "    cleanr = re.compile('<.*?>')\n",
        "    cleantext = re.sub(cleanr, '', raw_html)\n",
        "    return cleantext\n",
        "\n",
        "# Function expand the contractions if  any\n",
        "def expand_contractions(s, contractions_dict=contractions_dict):\n",
        "    def replace(match):\n",
        "        return contractions_dict[match.group(0)]\n",
        "    return contractions_re.sub(replace, s)"
      ],
      "metadata": {
        "id": "-X6XIE4EBLD5"
      },
      "execution_count": null,
      "outputs": []
    },
    {
      "cell_type": "code",
      "source": [
        "# Function to preprocess the articles\n",
        "def preprocessing(article):\n",
        "    global article_sent\n",
        "    \n",
        "    # Converting to lowercase\n",
        "    article = article.str.lower()\n",
        "    \n",
        "    # Removing the HTML\n",
        "    article = article.apply(lambda x: cleanhtml(x))\n",
        "    \n",
        "    # Removing the email ids\n",
        "    article = article.apply(lambda x: re.sub('\\S+@\\S+','', x))\n",
        "    \n",
        "    # Removing The URLS\n",
        "    article = article.apply(lambda x: re.sub(\"((http\\://|https\\://|ftp\\://)|(www.))+(([a-zA-Z0-9\\.-]+\\.[a-zA-Z]{2,4})|([0-9]{1,3}\\.[0-9]{1,3}\\.[0-9]{1,3}\\.[0-9]{1,3}))(/[a-zA-Z0-9%:/-_\\?\\.'~]*)?\",'', x))\n",
        "    \n",
        "    # Removing the '\\xa0'\n",
        "    article = article.apply(lambda x: x.replace(\"\\xa0\", \" \"))\n",
        "    \n",
        "    # Removing all the remaining character rather than alphabet and numeric\n",
        "    article = article.apply(lambda x: re.sub(\"[^a-z0-9]\", \" \", x))\n",
        "    \n",
        "    # Removing the contractions\n",
        "    article = article.apply(lambda x: expand_contractions(x))\n",
        "    \n",
        "    # Stripping the possessives\n",
        "    article = article.apply(lambda x: x.replace(\"'s\", ''))\n",
        "    article = article.apply(lambda x: x.replace('’s', ''))\n",
        "    article = article.apply(lambda x: x.replace(\"\\'s\", ''))\n",
        "    article = article.apply(lambda x: x.replace(\"\\’s\", ''))\n",
        "    \n",
        "    # Removing the Trailing and leading whitespace and double spaces\n",
        "    article = article.apply(lambda x: re.sub(' +', ' ',x))\n",
        "    \n",
        "    # Copying the article for the sentence tokenization\n",
        "    article_sent = article.copy()\n",
        "\n",
        "    # Removing punctuations from the article\n",
        "    article = article.apply(lambda x: ''.join(word for word in x if word not in punctuation))\n",
        "    \n",
        "    # Removing the Trailing and leading whitespace and double spaces again as removing punctuation might\n",
        "    # Lead to a white space\n",
        "    article = article.apply(lambda x: re.sub(' +', ' ',x))\n",
        "    \n",
        "    # Removing the Stopwords\n",
        "    article = article.apply(lambda x: ' '.join(word for word in x.split() if word not in stop_words))\n",
        "    \n",
        "    return article"
      ],
      "metadata": {
        "id": "GuZDktf3Bg7y"
      },
      "execution_count": null,
      "outputs": []
    },
    {
      "cell_type": "code",
      "source": [
        "# column for cleaned tweet text\n",
        "cleaned=preprocessing(dataset['tweet'])\n",
        "dataset['clean_tweets']=cleaned"
      ],
      "metadata": {
        "id": "kdHozw9jFqIU"
      },
      "execution_count": null,
      "outputs": []
    },
    {
      "cell_type": "code",
      "source": [
        "dataset=dataset.loc[:,['tweet','clean_tweets','label']]\n",
        "dataset"
      ],
      "metadata": {
        "colab": {
          "base_uri": "https://localhost:8080/",
          "height": 423
        },
        "id": "D1KEyAnkF0C9",
        "outputId": "3e84aa06-66fb-4367-91cf-731cdfb6b813"
      },
      "execution_count": null,
      "outputs": [
        {
          "output_type": "execute_result",
          "data": {
            "text/plain": [
              "                                                   tweet  \\\n",
              "0      Coronavirus | Human Coronavirus Types | CDC ht...   \n",
              "1      @shehryar_taseer That‚Äôs üíØ true , \\nCorona...   \n",
              "2      TLDR: Not SARS, possibly new coronavirus. Diff...   \n",
              "3      Disease outbreak news from the WHO: Middle Eas...   \n",
              "4      China - Media: WSJ says sources tell them myst...   \n",
              "...                                                  ...   \n",
              "29995  CDC: Re-test confirms Westerdam cruise ship pa...   \n",
              "29996  Two doctors die of coronavirus within 24 hours...   \n",
              "29997  BEIJING - The lockdown of Guo Jing's neighbour...   \n",
              "29998  #CoronavirusOutbreak in #Balochistan !!\\n#CPEC...   \n",
              "29999  The Australian dollar has hit a fresh decade l...   \n",
              "\n",
              "                                            clean_tweets label  \n",
              "0                coronavirus human coronavirus types cdc   neu  \n",
              "1      shehryar taseer true corona virus swine flue b...   neu  \n",
              "2      tldr sars possibly new coronavirus difficult c...   neg  \n",
              "3      disease outbreak news middle east respiratory ...   neu  \n",
              "4      china media wsj says sources tell mystery pneu...   neu  \n",
              "...                                                  ...   ...  \n",
              "29995  cdc test confirms westerdam cruise ship passen...   neu  \n",
              "29996  two doctors die coronavirus within 24 hours ch...   neu  \n",
              "29997  beijing lockdown guo jing neighbourhood wuhan ...   neu  \n",
              "29998  coronavirusoutbreak balochistan cpec route spr...   neu  \n",
              "29999  australian dollar hit fresh decade low investo...   neu  \n",
              "\n",
              "[30000 rows x 3 columns]"
            ],
            "text/html": [
              "\n",
              "  <div id=\"df-2c9f20c8-7b61-4af9-b3bb-d68df7aa0a60\">\n",
              "    <div class=\"colab-df-container\">\n",
              "      <div>\n",
              "<style scoped>\n",
              "    .dataframe tbody tr th:only-of-type {\n",
              "        vertical-align: middle;\n",
              "    }\n",
              "\n",
              "    .dataframe tbody tr th {\n",
              "        vertical-align: top;\n",
              "    }\n",
              "\n",
              "    .dataframe thead th {\n",
              "        text-align: right;\n",
              "    }\n",
              "</style>\n",
              "<table border=\"1\" class=\"dataframe\">\n",
              "  <thead>\n",
              "    <tr style=\"text-align: right;\">\n",
              "      <th></th>\n",
              "      <th>tweet</th>\n",
              "      <th>clean_tweets</th>\n",
              "      <th>label</th>\n",
              "    </tr>\n",
              "  </thead>\n",
              "  <tbody>\n",
              "    <tr>\n",
              "      <th>0</th>\n",
              "      <td>Coronavirus | Human Coronavirus Types | CDC ht...</td>\n",
              "      <td>coronavirus human coronavirus types cdc</td>\n",
              "      <td>neu</td>\n",
              "    </tr>\n",
              "    <tr>\n",
              "      <th>1</th>\n",
              "      <td>@shehryar_taseer That‚Äôs üíØ true , \\nCorona...</td>\n",
              "      <td>shehryar taseer true corona virus swine flue b...</td>\n",
              "      <td>neu</td>\n",
              "    </tr>\n",
              "    <tr>\n",
              "      <th>2</th>\n",
              "      <td>TLDR: Not SARS, possibly new coronavirus. Diff...</td>\n",
              "      <td>tldr sars possibly new coronavirus difficult c...</td>\n",
              "      <td>neg</td>\n",
              "    </tr>\n",
              "    <tr>\n",
              "      <th>3</th>\n",
              "      <td>Disease outbreak news from the WHO: Middle Eas...</td>\n",
              "      <td>disease outbreak news middle east respiratory ...</td>\n",
              "      <td>neu</td>\n",
              "    </tr>\n",
              "    <tr>\n",
              "      <th>4</th>\n",
              "      <td>China - Media: WSJ says sources tell them myst...</td>\n",
              "      <td>china media wsj says sources tell mystery pneu...</td>\n",
              "      <td>neu</td>\n",
              "    </tr>\n",
              "    <tr>\n",
              "      <th>...</th>\n",
              "      <td>...</td>\n",
              "      <td>...</td>\n",
              "      <td>...</td>\n",
              "    </tr>\n",
              "    <tr>\n",
              "      <th>29995</th>\n",
              "      <td>CDC: Re-test confirms Westerdam cruise ship pa...</td>\n",
              "      <td>cdc test confirms westerdam cruise ship passen...</td>\n",
              "      <td>neu</td>\n",
              "    </tr>\n",
              "    <tr>\n",
              "      <th>29996</th>\n",
              "      <td>Two doctors die of coronavirus within 24 hours...</td>\n",
              "      <td>two doctors die coronavirus within 24 hours ch...</td>\n",
              "      <td>neu</td>\n",
              "    </tr>\n",
              "    <tr>\n",
              "      <th>29997</th>\n",
              "      <td>BEIJING - The lockdown of Guo Jing's neighbour...</td>\n",
              "      <td>beijing lockdown guo jing neighbourhood wuhan ...</td>\n",
              "      <td>neu</td>\n",
              "    </tr>\n",
              "    <tr>\n",
              "      <th>29998</th>\n",
              "      <td>#CoronavirusOutbreak in #Balochistan !!\\n#CPEC...</td>\n",
              "      <td>coronavirusoutbreak balochistan cpec route spr...</td>\n",
              "      <td>neu</td>\n",
              "    </tr>\n",
              "    <tr>\n",
              "      <th>29999</th>\n",
              "      <td>The Australian dollar has hit a fresh decade l...</td>\n",
              "      <td>australian dollar hit fresh decade low investo...</td>\n",
              "      <td>neu</td>\n",
              "    </tr>\n",
              "  </tbody>\n",
              "</table>\n",
              "<p>30000 rows × 3 columns</p>\n",
              "</div>\n",
              "      <button class=\"colab-df-convert\" onclick=\"convertToInteractive('df-2c9f20c8-7b61-4af9-b3bb-d68df7aa0a60')\"\n",
              "              title=\"Convert this dataframe to an interactive table.\"\n",
              "              style=\"display:none;\">\n",
              "        \n",
              "  <svg xmlns=\"http://www.w3.org/2000/svg\" height=\"24px\"viewBox=\"0 0 24 24\"\n",
              "       width=\"24px\">\n",
              "    <path d=\"M0 0h24v24H0V0z\" fill=\"none\"/>\n",
              "    <path d=\"M18.56 5.44l.94 2.06.94-2.06 2.06-.94-2.06-.94-.94-2.06-.94 2.06-2.06.94zm-11 1L8.5 8.5l.94-2.06 2.06-.94-2.06-.94L8.5 2.5l-.94 2.06-2.06.94zm10 10l.94 2.06.94-2.06 2.06-.94-2.06-.94-.94-2.06-.94 2.06-2.06.94z\"/><path d=\"M17.41 7.96l-1.37-1.37c-.4-.4-.92-.59-1.43-.59-.52 0-1.04.2-1.43.59L10.3 9.45l-7.72 7.72c-.78.78-.78 2.05 0 2.83L4 21.41c.39.39.9.59 1.41.59.51 0 1.02-.2 1.41-.59l7.78-7.78 2.81-2.81c.8-.78.8-2.07 0-2.86zM5.41 20L4 18.59l7.72-7.72 1.47 1.35L5.41 20z\"/>\n",
              "  </svg>\n",
              "      </button>\n",
              "      \n",
              "  <style>\n",
              "    .colab-df-container {\n",
              "      display:flex;\n",
              "      flex-wrap:wrap;\n",
              "      gap: 12px;\n",
              "    }\n",
              "\n",
              "    .colab-df-convert {\n",
              "      background-color: #E8F0FE;\n",
              "      border: none;\n",
              "      border-radius: 50%;\n",
              "      cursor: pointer;\n",
              "      display: none;\n",
              "      fill: #1967D2;\n",
              "      height: 32px;\n",
              "      padding: 0 0 0 0;\n",
              "      width: 32px;\n",
              "    }\n",
              "\n",
              "    .colab-df-convert:hover {\n",
              "      background-color: #E2EBFA;\n",
              "      box-shadow: 0px 1px 2px rgba(60, 64, 67, 0.3), 0px 1px 3px 1px rgba(60, 64, 67, 0.15);\n",
              "      fill: #174EA6;\n",
              "    }\n",
              "\n",
              "    [theme=dark] .colab-df-convert {\n",
              "      background-color: #3B4455;\n",
              "      fill: #D2E3FC;\n",
              "    }\n",
              "\n",
              "    [theme=dark] .colab-df-convert:hover {\n",
              "      background-color: #434B5C;\n",
              "      box-shadow: 0px 1px 3px 1px rgba(0, 0, 0, 0.15);\n",
              "      filter: drop-shadow(0px 1px 2px rgba(0, 0, 0, 0.3));\n",
              "      fill: #FFFFFF;\n",
              "    }\n",
              "  </style>\n",
              "\n",
              "      <script>\n",
              "        const buttonEl =\n",
              "          document.querySelector('#df-2c9f20c8-7b61-4af9-b3bb-d68df7aa0a60 button.colab-df-convert');\n",
              "        buttonEl.style.display =\n",
              "          google.colab.kernel.accessAllowed ? 'block' : 'none';\n",
              "\n",
              "        async function convertToInteractive(key) {\n",
              "          const element = document.querySelector('#df-2c9f20c8-7b61-4af9-b3bb-d68df7aa0a60');\n",
              "          const dataTable =\n",
              "            await google.colab.kernel.invokeFunction('convertToInteractive',\n",
              "                                                     [key], {});\n",
              "          if (!dataTable) return;\n",
              "\n",
              "          const docLinkHtml = 'Like what you see? Visit the ' +\n",
              "            '<a target=\"_blank\" href=https://colab.research.google.com/notebooks/data_table.ipynb>data table notebook</a>'\n",
              "            + ' to learn more about interactive tables.';\n",
              "          element.innerHTML = '';\n",
              "          dataTable['output_type'] = 'display_data';\n",
              "          await google.colab.output.renderOutput(dataTable, element);\n",
              "          const docLink = document.createElement('div');\n",
              "          docLink.innerHTML = docLinkHtml;\n",
              "          element.appendChild(docLink);\n",
              "        }\n",
              "      </script>\n",
              "    </div>\n",
              "  </div>\n",
              "  "
            ]
          },
          "metadata": {},
          "execution_count": 11
        }
      ]
    },
    {
      "cell_type": "code",
      "source": [
        "dataset['label'].unique()"
      ],
      "metadata": {
        "colab": {
          "base_uri": "https://localhost:8080/"
        },
        "id": "qAPyNy2gGI7e",
        "outputId": "4230b8aa-9290-4b73-ef5a-0f9b3f977dfc"
      },
      "execution_count": null,
      "outputs": [
        {
          "output_type": "execute_result",
          "data": {
            "text/plain": [
              "array(['neu', 'neg', 'pos'], dtype=object)"
            ]
          },
          "metadata": {},
          "execution_count": 12
        }
      ]
    },
    {
      "cell_type": "code",
      "source": [
        "# seperating the target variable and features \n",
        "\n",
        "X = dataset['clean_tweets']\n",
        "y = dataset['label']"
      ],
      "metadata": {
        "id": "70p3TCwnkt5y"
      },
      "execution_count": null,
      "outputs": []
    },
    {
      "cell_type": "code",
      "source": [
        "dataset['label'].value_counts()"
      ],
      "metadata": {
        "colab": {
          "base_uri": "https://localhost:8080/"
        },
        "id": "4ls-F4bwtUaJ",
        "outputId": "cd68979e-6c76-4980-bbfe-2d49677eb38c"
      },
      "execution_count": null,
      "outputs": [
        {
          "output_type": "execute_result",
          "data": {
            "text/plain": [
              "neu    22949\n",
              "neg     5083\n",
              "pos     1968\n",
              "Name: label, dtype: int64"
            ]
          },
          "metadata": {},
          "execution_count": 23
        }
      ]
    },
    {
      "cell_type": "code",
      "source": [
        "# Splitting the dataset into training and test set\n",
        "X_train, X_test, y_train, y_test = train_test_split(X, y,test_size = 0.3, random_state = 0)"
      ],
      "metadata": {
        "id": "4iFvD2u3ilyJ"
      },
      "execution_count": null,
      "outputs": []
    },
    {
      "cell_type": "code",
      "source": [
        "# checking the shape of the test and train data\n",
        "print(\"X_train shape :\",X_train.shape)\n",
        "print(\"X_test shape :\",X_test.shape)\n",
        "print(\"y_train shape :\",y_train.shape)\n",
        "print(\"y_test shape :\",y_test.shape)"
      ],
      "metadata": {
        "colab": {
          "base_uri": "https://localhost:8080/"
        },
        "id": "3OXbIaC7k3sg",
        "outputId": "07155f74-521e-4f12-ed7d-32080594ff7f"
      },
      "execution_count": null,
      "outputs": [
        {
          "output_type": "stream",
          "name": "stdout",
          "text": [
            "X_train shape : (21000,)\n",
            "X_test shape : (9000,)\n",
            "y_train shape : (21000,)\n",
            "y_test shape : (9000,)\n"
          ]
        }
      ]
    },
    {
      "cell_type": "code",
      "source": [
        "# Dataframe for Train data\n",
        "df_train = pd.DataFrame()\n",
        "df_train['Tweets'] = X_train\n",
        "df_train['label'] = y_train\n",
        "#print(df_train)\n",
        "# Dataframe for Test data\n",
        "df_test = pd.DataFrame()\n",
        "df_test['Tweets'] = X_test\n",
        "df_test['label'] = y_test\n",
        "#print(df_test)"
      ],
      "metadata": {
        "id": "2pu0OLU8tptg"
      },
      "execution_count": null,
      "outputs": []
    },
    {
      "cell_type": "code",
      "source": [
        "# Initializing the If-IDF vectorizer\n",
        "\n",
        "tfidf_vect = TfidfVectorizer(max_features = 5000)\n",
        "tfidf_vect.fit(dataset['clean_tweets'])\n",
        "\n",
        "X_train_tfidf = tfidf_vect.transform(df_train['Tweets'])\n",
        "X_test_tfidf = tfidf_vect.transform(df_test['Tweets'])"
      ],
      "metadata": {
        "id": "TrweANRKliSR"
      },
      "execution_count": null,
      "outputs": []
    },
    {
      "cell_type": "code",
      "source": [
        "# all the vocabulary from the Corpus\n",
        "print(tfidf_vect.vocabulary_)"
      ],
      "metadata": {
        "colab": {
          "base_uri": "https://localhost:8080/"
        },
        "id": "usVlI_YQvDK_",
        "outputId": "e59b7e07-7b52-4ebb-ab28-68fdfb0a1b4b"
      },
      "execution_count": null,
      "outputs": [
        {
          "output_type": "stream",
          "name": "stdout",
          "text": [
            "{'coronavirus': 1113, 'human': 2265, 'types': 4620, 'cdc': 833, 'true': 4586, 'corona': 1104, 'virus': 4741, 'swine': 4362, 'bird': 613, 'flu': 1893, 'december': 1292, 'whole': 4851, 'busy': 748, 'sars': 3852, 'possibly': 3406, 'new': 3043, 'difficult': 1396, 'confirm': 1049, 'patients': 3266, 'identified': 2293, 'later': 2595, 'infection': 2388, 'disease': 1427, 'outbreak': 3191, 'news': 3049, 'middle': 2886, 'east': 1536, 'respiratory': 3753, 'syndrome': 4368, 'mers': 2867, 'cov': 1168, 'united': 4654, 'arab': 418, 'china': 897, 'media': 2844, 'wsj': 4933, 'says': 3862, 'sources': 4134, 'tell': 4408, 'mystery': 2991, 'pneumonia': 3376, 'something': 4117, 'causing': 822, 'family': 1778, 'virologists': 4738, 'weigh': 4826, 'novel': 3095, 'chinese': 906, 'authorities': 489, 'made': 2754, 'preliminary': 3446, 'ccp': 830, 'keep': 2523, 'saying': 3861, 'unknown': 4660, 'cause': 819, 'obviously': 3119, 'related': 3695, 'let': 2645, 'report': 3730, 'mysterious': 2990, 'illnesses': 2312, 'may': 2828, 'identifies': 2294, 'strain': 4256, 'source': 4133, 'always': 343, 'feel': 1815, 'weird': 4829, 'hoping': 2230, 'another': 375, 'research': 3742, 'illness': 2311, 'cnet': 974, 'wuhan': 4938, 'caused': 820, 'bbc': 546, 'via': 4720, 'googlenews': 2062, 'health': 2158, 'advisory': 265, 'ask': 452, 'severe': 3968, 'scientists': 3883, 'unusual': 4669, 'scary': 3872, 'scale': 3864, 'makes': 2773, '10': 11, 'n95': 2994, 'masks': 2813, 'genome': 2015, 'sequence': 3952, 'associated': 464, 'cluster': 969, 'crap': 1186, 'quick': 3586, 'search': 3903, 'suggests': 4307, 'looks': 2722, 'like': 2663, 'bat': 536, '89': 183, '12': 24, 'lab': 2573, 'findings': 1854, 'reports': 3736, '1st': 53, 'death': 1286, 'type': 4619, 'cbc': 825, 'first': 1868, 'jan': 2481, '11': 19, '59': 139, 'et': 1652, 'rt': 3817, 'interim': 2426, 'guidance': 2104, 'technical': 4403, 'updated': 4672, 'needed': 3032, 'call': 757, 'transparency': 4551, 'data': 1263, 'sharing': 3989, 'concerning': 1036, 'wuhanpneumonia': 4947, 'releases': 3702, 'genetic': 2012, 'deadly': 1280, 'baby': 508, 'born': 660, 'pic': 3322, 'currently': 1236, 'spreading': 4182, 'whowpro': 4854, 'drtedros': 1509, 'sequences': 3954, '2019': 65, 'ncov': 3018, 'allow': 327, 'countries': 1160, 'develop': 1366, 'sp': 4139, 'thailand': 4438, 'confirms': 1052, 'traveler': 4557, 'hospitalized': 2236, 'form': 1930, 'according': 223, 'officials': 3135, 'good': 2056, 'spread': 4179, 'seafood': 3900, 'market': 2807, 'major': 2768, 'transport': 4552, 'hub': 2260, 'closed': 957, 'brace': 674, 'america': 349, 'nasty': 3005, 'amp': 357, 'killer': 2538, 'japan': 2483, 'second': 3909, 'reported': 3731, '41': 114, 'patient': 3265, 'likely': 2666, 'cases': 804, 'fear': 1799, '500': 129, 'caught': 818, 'dies': 1392, 'confirmed': 1051, 'case': 803, 'fears': 1804, 'three': 4474, 'airports': 305, 'screen': 3893, 'passengers': 3255, 'issues': 2463, 'warning': 4786, 'spreads': 4184, 'wuhansars': 4948, 'viral': 4735, 'symptoms': 4367, 'entry': 1619, 'screenings': 3896, 'us': 4682, 'airline': 300, 'amid': 352, 'lax': 2611, '17': 43, '03': 5, 'pm': 3374, 'raising': 3606, 'questions': 3584, 'infected': 2386, 'found': 1936, 'youtube': 4985, 'ex': 1686, '2nd': 90, 'city': 930, 'since': 4049, 'wtf': 4934, 'sounds': 4131, 'many': 2794, 'initially': 2405, 'thought': 4462, 'contact': 1068, 'world': 4907, 'stands': 4206, 'emerging': 1588, 'estimates': 1651, 'put': 3563, 'number': 3104, 'people': 3286, 'closely': 958, 'check': 878, 'least': 2628, 'suspected': 4348, 'shenzhen': 3993, 'shanghai': 3982, 'hundreds': 2272, 'also': 340, 'export': 1728, 'grossly': 2087, 'study': 4285, 'cnn': 975, 'robert': 3802, 'already': 338, 'idea': 2291, 'costs': 1147, 'newly': 3047, 'developed': 1367, 'test': 4428, 'alert': 315, 'korea': 2564, 'seems': 3926, 'pretty': 3465, 'bad': 513, 'worried': 4913, 'could': 1156, 'mutate': 2984, 'even': 1670, 'potent': 3414, 'modelovirus': 2926, 'surge': 4329, 'jumps': 2517, 'cities': 925, 'infections': 2389, 'ajenews': 307, 'leap': 2624, 'latest': 2596, 'blog': 636, 'include': 2348, 'factbox': 1757, 'post': 3407, 'know': 2554, 'published': 3549, 'trending': 4572, 'tourists': 4527, 'coming': 1004, 'nepal': 3038, 'taking': 4381, 'epidemic': 1626, '2019ncov': 66, 'beijing': 574, 'breaks': 688, 'silence': 4039, 'deny': 1339, 'rumours': 3822, 'transmission': 4548, 'imminent': 2324, 'head': 2149, 'government': 2072, 'expert': 1715, 'team': 4400, 'state': 4216, 'ap': 394, 'york': 4981, 'times': 4491, 'zero': 4990, 'hedge': 2170, 'lookner': 2721, 'detected': 1360, 'well': 4831, 'es': 1639, 'abc': 203, 'said': 3837, 'dr': 1488, 'zhong': 4995, 'infectious': 2390, 'globalhealth': 2039, 'skynewsbreak': 4069, 'last': 2592, 'year': 4968, 'drinking': 1494, '15': 38, 'south': 4135, 'think': 4456, 'reaches': 3629, 'hearing': 2163, 'might': 2888, 'next': 3055, 'plague': 3339, 'still': 4239, 'animal': 367, 'transmitted': 4550, 'national': 3007, 'hold': 2212, 'emergency': 1586, 'meeting': 2853, 'asia': 448, 'global': 2038, 'hysteria': 2282, 'panic': 3236, 'yet': 4975, 'folks': 1901, 'jokes': 2504, 'old': 3143, 'means': 2836, 'friday': 1959, 'night': 3068, 'calls': 760, 'wrap': 4925, 'tonight': 4507, 'touch': 4520, 'daily': 1248, 'watch': 4798, 'dog': 1461, 'meat': 2842, 'trade': 4537, 'definitely': 1313, 'covering': 1173, 'severity': 3969, '200': 55, 'extends': 1738, 'reach': 3627, 'experts': 1716, 'across': 230, 'planet': 3348, 'person': 3299, 'humans': 2267, 'known': 2557, 'contagious': 1071, 'nytimes': 3113, 'freaking': 1952, 'really': 3647, 'dangerous': 1255, 'influenza': 2395, 'kill': 2536, 'anyways': 392, 'borders': 658, 'cant': 781, 'enter': 1613, 'making': 2775, 'sick': 4026, 'treatment': 4569, 'prevent': 3466, 'pregnancy': 3443, 'getting': 2023, 'scared': 3868, 'medics': 2850, 'hazmat': 2147, 'suits': 4310, 'air': 297, 'plane': 3346, 'medical': 2846, 'workers': 4902, 'far': 1783, 'low': 2738, 'mortality': 2957, 'rate': 3618, 'science': 3879, 'va': 4696, 'struck': 4275, 'ahead': 292, 'period': 3294, 'group': 2089, 'ffs': 1828, 'rather': 3620, 'cdcgov': 834, 'going': 2052, 'change': 864, 'fees': 1819, 'want': 4775, 'leave': 2629, 'earlier': 1526, 'due': 1516, 'need': 3031, 'video': 4727, 'explained': 1718, 'ray': 3624, 'soup': 4132, 'banned': 525, 'read': 3634, 'several': 3967, 'articles': 442, 'exactly': 1688, 'breaking': 684, 'man': 2782, 'tested': 4429, 'returning': 3771, 'cousin': 1167, 'began': 567, 'music': 2981, 'tech': 4402, 'thanks': 4440, 'boston': 662, 'doctor': 1457, 'warns': 4788, 'everyone': 1679, 'organization': 3175, 'rise': 3792, 'expected': 1707, 'worse': 4918, 'xenophobia': 4953, 'rampant': 3611, 'uk': 4628, 'symptom': 4366, 'make': 2770, 'every': 1676, 'pr': 3423, 'slice': 4074, 'lime': 2670, 'citizens': 928, 'advised': 262, 'wear': 4812, 'particularly': 3248, 'killed': 2537, 'third': 4459, 'fourth': 1939, 'prepares': 3454, 'meet': 2852, 'monkey': 2945, 'takes': 4380, 'life': 2659, 'asks': 455, 'doctors': 1458, 'look': 2718, 'mounts': 2965, 'claims': 936, '4th': 127, 'nations': 3009, 'start': 4211, 'screening': 3895, 'travelers': 4558, 'concerns': 1037, 'prompt': 3513, 'sfo': 3972, '21': 70, '57': 137, 'top': 4510, 'de': 1274, 'twitter': 4616, 'en': 1597, '2020': 67, 'wild': 4864, 'animals': 368, 'origin': 3177, 'nah': 2996, 'better': 589, 'forex': 1926, 'today': 4498, 'markets': 2809, 'trump': 4589, 'child': 892, 'tests': 4431, 'positive': 3403, 'cebu': 835, 'austin': 483, 'nyt': 3112, 'australia': 484, 'flights': 1884, 'residents': 3747, 'leaving': 2631, 'sputnikint': 4187, 'yikes': 4978, '20': 54, 'doh': 1463, 'admitted': 255, 'hospital': 2235, 'continues': 1083, 'dead': 1276, 'update': 4671, 'posted': 3408, 'weekend': 4822, 'go': 2047, 'trip': 4582, 'real': 3639, 'carry': 797, 'give': 2033, 'scientific': 3881, 'nature': 3012, 'cure': 1229, 'infect': 2385, 'tuesday': 4599, 'warned': 4785, 'cover': 1170, 'anyone': 389, 'puts': 3564, 'face': 1747, 'none': 3083, 'james': 2480, 'explain': 1717, 'whether': 4841, 'january': 2482, 'pathogen': 3264, 'high': 2190, 'risk': 3796, 'including': 2350, 'capital': 785, 'reuters': 3774, 'sixth': 4061, 'victim': 4723, 'holiday': 2215, 'travel': 4555, 'risks': 3797, 'almost': 332, '300': 92, 'occupied': 3121, 'herald': 2181, 'sun': 4313, 'reached': 3628, 'mostly': 2960, 'college': 994, 'coverup': 1174, 'hahaha': 2115, 'unless': 4661, 'public': 3547, 'help': 2175, 'matt': 2824, 'talking': 4383, 'cats': 816, 'dont': 1474, 'one': 3151, 'tho': 4460, 'ive': 2471, 'years': 4969, 'landed': 2582, 'soil': 4107, 'quickly': 3588, 'marketwatch': 2810, 'chigrl': 891, 'announces': 372, 'way': 4803, 'states': 4219, 'fast': 1787, 'felt': 1822, 'everything': 1680, 'meaning': 2835, 'hell': 2173, 'pack': 3220, 'drink': 1493, 'thing': 4454, 'washington': 4794, 'catch': 812, 'discovered': 1416, 'get': 2021, 'seeing': 3921, 'knowing': 2555, 'never': 3042, 'things': 4455, 'friends': 1962, 'returned': 3770, 'believe': 576, 'needs': 3033, 'declare': 1297, 'immediately': 2322, 'sorry': 4126, 'kinda': 2543, 'dow': 1484, 'falls': 1775, '100': 12, 'points': 3381, 'big': 597, 'decline': 1301, 'boeing': 649, 'ba': 506, 'republic': 3737, 'patented': 3261, 'arriving': 439, 'chicago': 886, 'airport': 304, 'screened': 3894, 'american': 350, 'bro': 710, 'threatening': 4471, 'netflix': 3040, 'bring': 700, 'farm': 1784, 'hang': 2127, 'goats': 2049, 'else': 1578, 'gets': 2022, 'bout': 668, 'situation': 4058, 'summary': 4311, 'usa': 4683, 'possible': 3405, 'ph': 3308, 'official': 3133, 'confirmation': 1050, 'ho': 2208, 'reportedly': 3732, 'shut': 4021, 'foreign': 1922, 'ah': 291, 'amazing': 344, 'seriously': 3958, 'subscribe': 4293, 'arrived': 437, 'seattle': 3907, 'int': 2417, 'ai': 293, 'chance': 861, 'buy': 749, 'stocks': 4242, 'jim': 2491, 'cramer': 1185, 'cnbc': 972, 'expand': 1701, 'welcome': 4830, 'begun': 571, 'please': 3365, 'practice': 3424, 'personal': 3300, 'social': 4104, 'hygiene': 2279, 'model': 2923, 'iran': 2443, 'doomsday': 1476, 'looming': 2723, 'guys': 2109, 'california': 756, 'sickened': 4027, 'six': 4060, 'die': 1389, 'foxnews': 1943, 'prime': 3475, 'minister': 2902, 'scott': 3888, 'morrison': 2956, 'evolving': 1685, 'fuck': 1969, 'breaking911': 685, 'bs': 719, 'mom': 2932, 'ago': 288, 'told': 4503, 'diagnosed': 1377, 'week': 4821, 'nypost': 3111, 'avoid': 496, 'oh': 3137, 'na': 2995, 'multiple': 2978, 'australians': 486, 'stock': 4241, 'mad': 2753, 'money': 2938, 'uncertainty': 4638, 'ceo': 848, 'hi': 2186, 'seanhannity': 3902, 'wife': 4860, 'asked': 453, 'limes': 2671, 'trying': 4594, 'sickness': 4028, 'boys': 673, 'contract': 1085, 'semi': 3935, 'staff': 4197, 'take': 4378, 'temperature': 4411, 'begins': 570, 'jamaica': 2479, 'resident': 3746, 'treated': 4567, 'press': 3462, 'become': 558, 'millions': 2897, 'remember': 3715, 'light': 2662, 'recent': 3656, 'note': 3090, 'viruses': 4743, 'da': 1245, 'bitches': 621, 'stay': 4227, 'away': 502, 'heard': 2162, 'got': 2066, 'racist': 3598, 'learning': 2627, 'driving': 1501, 'uber': 4622, 'come': 1001, 'arrives': 438, 'russia': 3829, 'india': 2364, 'others': 3184, 'boost': 656, 'border': 657, '440': 120, 'scmpnews': 3886, 'live': 2689, 'nine': 3073, 'horror': 2234, 'globe': 2043, 'dying': 1524, 'story': 4254, 'shows': 4020, 'connected': 1056, 'international': 2427, 'kills': 2540, 'antidote': 382, 'apparently': 401, 'por': 3396, 'lo': 2697, 'del': 1316, 'sir': 4054, 'came': 763, 'assume': 465, 'impact': 2328, 'montreal': 2948, 'hospitals': 2237, 'following': 1905, 'realdonaldtrump': 3640, 'county': 1163, 'confused': 1053, 'talk': 4382, 'company': 1020, 'business': 745, 'macau': 2752, 'hong': 2223, 'kong': 2562, 'economic': 1545, 'im': 2313, 'names': 3000, 'hangover': 2128, 'word': 4897, 'coronas': 1111, '01': 2, 'xi': 4956, 'party': 3251, 'shame': 3981, 'mi': 2879, 'province': 3540, 'care': 789, 'vigilant': 4732, 'special': 4152, 'region': 3687, 'center': 843, 'move': 2967, 'quarantine': 3573, 'traveling': 4559, 'must': 2983, 'fail': 1763, 'table': 4373, 'information': 2400, 'deaths': 1287, 'map': 2795, 'etc': 1653, 'airlines': 301, 'flight': 1883, 'examined': 1689, 'wont': 4895, 'iranians': 2445, 'north': 3087, 'koreans': 2566, 'english': 1609, 'raymond': 3625, 'item': 2468, 'broadcast': 711, 'toll': 4504, 'rises': 3794, 'spectatorindex': 4157, 'index': 2363, 'cathay': 814, 'crew': 1198, 'mainland': 2763, 'difference': 1393, 'comes': 1003, 'heading': 2152, 'ground': 2088, 'abcnews': 204, 'prepare': 3451, 'lunar': 2744, 'running': 3824, 'page': 3224, 'spy': 4189, 'double': 1480, 'reading': 3637, 'mind': 2898, 'worry': 4916, 'created': 1190, 'vaccine': 4699, 'patent': 3260, '130': 27, '701': 159, 'happens': 2132, 'long': 2716, 'end': 1598, 'healthcare': 2159, 'economist': 1548, 'lands': 2583, 'whatever': 4839, 'seem': 3925, 'grave': 2081, 'traveled': 4556, 'superspreader': 4318, 'brain': 676, 'surgery': 4330, 'looms': 2724, 'hope': 2227, 'contracted': 1086, 'killing': 2539, 'lead': 2615, 'serious': 3957, 'correction': 1141, 'pandemic': 3231, 'mount': 2963, 'hits': 2203, 'increase': 2352, 'around': 429, 'hate': 2142, 'jinping': 2492, 'month': 2946, 'gotten': 2068, 'round': 3814, 'show': 4016, 'substance': 4294, 'close': 956, 'fish': 1869, 'climb': 948, 'perilofafrica': 3293, 'key': 2530, 'grow': 2091, 'begin': 568, 'checking': 880, 'goodbye': 2057, 'actually': 241, 'gonna': 2055, 'image': 2315, 'wwiii': 4952, 'climate': 946, 'changed': 865, 'monitor': 2941, 'precaution': 3433, 'npr': 3099, 'say': 3860, 'totally': 4519, 'control': 1089, 'commerce': 1008, 'players': 3359, 'ease': 1532, 'prices': 3474, 'disinfectant': 1433, 'linked': 2680, 'msnbc': 2976, 'cancel': 771, '450': 122, 'time': 4489, 'yesterday': 4974, 'fo': 1897, 'likelihood': 2665, 'finland': 1860, 'monitoring': 2943, 'heathrow': 2168, 'create': 1189, 'separate': 3951, 'arrival': 434, 'area': 421, 'precautionary': 3434, 'measure': 2840, 'great': 2082, 'shape': 3984, 'plan': 3345, 'egypt': 1566, 'highly': 2194, 'measures': 2841, 'stop': 4246, 'entering': 1615, 'olympic': 3145, 'review': 3781, 'paris': 3244, 'back': 509, 'cooking': 1096, 'secretary': 3913, 'country': 1161, 'however': 2253, 'sell': 3931, 'protect': 3523, 'poses': 3402, 'leadership': 2618, 'avoiding': 497, 'important': 2338, 'ever': 1675, 'ramp': 3609, 'bats': 540, 'days': 1271, 'couple': 1164, 'impeachment': 2332, 'wednesday': 4820, 'briefing': 697, 'contain': 1072, 'deadass': 1277, 'bc': 550, 'friend': 1960, 'abt': 211, 'scaring': 3871, 'wash': 4792, 'hands': 2126, 'kids': 2535, 'helps': 2179, 'longer': 2717, 'sparking': 4146, 'dear': 1285, 'given': 2034, 'diseases': 1428, 'lee': 2635, 'canada': 768, 'threat': 4468, 'turkey': 4603, 'particular': 3247, 'dax': 1269, 'highs': 2195, 'slows': 4082, 'shares': 3988, 'rose': 3812, 'response': 3756, 'struggling': 4279, 'bernie': 584, 'harry': 2138, 'returns': 3772, 'dealing': 1282, 'sharply': 3991, 'mid': 2885, 'tackle': 4374, 'impeachmenttrial': 2333, 'describe': 1344, 'th': 4435, 'previous': 3471, 'tweet': 4611, 'thread': 4467, 'stating': 4220, 'picked': 3324, 'ghana': 2024, 'crypto': 1221, 'careful': 790, 'shit': 4001, 'would': 4923, 'kenya': 2527, 'steps': 4235, 'surveillance': 4339, 'acting': 232, 'brings': 702, 'hear': 2161, 'efforts': 1565, 'beginning': 569, 'added': 245, '69': 154, 'hubei': 2261, 'total': 4518, 'overseas': 3205, 'closes': 960, 'forces': 1916, 'plans': 3351, 'bringing': 701, 'chin': 896, 'conducted': 1043, 'atlanta': 471, 'employers': 1594, 'hr': 2256, 'holy': 2216, 'thats': 4441, 'less': 2642, 'day': 1270, 'wait': 4764, 'anything': 390, 'watching': 4800, 'together': 4499, 'smell': 4089, 'li': 2653, 'nigerianews': 3064, 'nigeria': 3062, 'advise': 261, 'chinavirus': 902, 'suspects': 4349, 'simply': 4045, 'two': 4617, 'tips': 4495, 'technology': 4404, 'lets': 2647, 'aint': 296, 'play': 3357, 'inc': 2346, 'smh': 4090, 'developing': 1368, 'article': 441, 'combat': 998, 'henry': 2180, 'provincial': 3542, 'officer': 3130, 'join': 2499, 'clock': 954, 'weaker': 4806, 'share': 3985, 'link': 2679, 'morning': 2954, 'idk': 2299, 'youre': 4984, 'interested': 2424, 'informed': 2402, 'rapidly': 3615, 'food': 1907, 'poisoning': 3383, 'lots': 2734, 'order': 3169, 'spreaders': 4181, 'whitehouse': 4847, 'maybe': 2829, 'system': 4369, 'five': 1871, 'increases': 2354, 'affected': 271, 'afp': 275, 'probably': 3489, 'named': 2999, 'calling': 759, 'fire': 1863, 'ww3': 4950, 'gun': 2107, 'girl': 2031, 'choose': 912, 'knows': 2558, 'mean': 2834, 'treat': 4566, '70': 157, 'conference': 1044, 'alarm': 312, 'prepared': 3452, 'sparked': 4145, 'crisis': 1200, 'opening': 3161, 'aliexpress': 321, 'package': 3221, 'hit': 2202, 'fresh': 1958, 'free': 1953, 'cost': 1145, 'chilling': 895, 'reveals': 3778, 'scenes': 3875, 'bug': 727, 'turns': 4607, 'ghost': 2025, 'gold': 2053, 'turn': 4604, 'home': 2217, 'yep': 4972, 'isolated': 2454, 'someone': 4116, 'proper': 3517, 'work': 4899, 'tomorrow': 4506, 'overwhelmed': 3209, 'earthquake': 1530, 'warn': 4784, 'mutating': 2986, 'see': 3920, 'tweets': 4614, 'contaminated': 1077, 'much': 2977, 'chinapneumonia': 900, 'rising': 3795, 'extraordinary': 1740, 'matter': 2825, 'mask': 2811, 'black': 624, 'white': 4846, 'communist': 1016, 'gt': 2097, 'cut': 1238, 'transportation': 4553, 'despite': 1352, 'professor': 3501, 'spanish': 4142, 'words': 4898, 'full': 1976, 'shuts': 4023, 'indian': 2365, 'students': 4282, 'anxious': 386, 'virulent': 4740, 'committee': 1011, 'potential': 3415, 'plays': 3361, 'shutting': 4024, 'trains': 4545, 'living': 2692, 'nightmare': 3069, 'million': 2896, 'train': 4543, 'stations': 4222, 'bus': 740, 'okay': 3141, 'similar': 4043, 'clearly': 944, 'wrong': 4931, 'effect': 1560, 'name': 2998, 'demand': 1331, 'beer': 564, 'lock': 2705, 'halt': 2119, 'feared': 1800, 'widespread': 4859, 'officially': 3134, 'mailonline': 2761, 'fatalities': 1790, 'finding': 1853, 'originated': 3181, 'scares': 3869, 'slowly': 4081, 'surely': 4327, 'concern': 1034, 'nbcnews': 3016, 'limit': 2672, 'population': 3395, 'billion': 602, 'nice': 3061, 'companies': 1019, 'restricting': 3763, 'started': 4212, 'wildlife': 4866, 'taken': 4379, 'underway': 4646, 'right': 3788, 'early': 1527, 'gains': 1992, 'contained': 1073, 'count': 1157, 'doubles': 1481, 'overnight': 3204, 'working': 4903, 'became': 557, 'mexico': 2877, 'ill': 2308, 'visiting': 4748, 'quarantined': 3574, 'damn': 1251, 'movie': 2969, 'weeks': 4824, 'starting': 4213, 'decide': 1293, 'thursday': 4481, 'postpones': 3412, 'decision': 1296, 'declaring': 1300, 'pigs': 3329, 'stunt': 4288, 'goes': 2051, 'creating': 1192, 'promote': 3512, 'task': 4392, 'info': 2396, 'originating': 3182, 'general': 2011, 'otherwise': 3185, 'suspends': 4353, 'spre': 4178, 'rapid': 3614, 'warnings': 4787, 'seeks': 3924, 'heart': 2164, '27': 85, 'ready': 3638, 'sa': 3831, 'meanwhile': 2838, 'escalate': 1640, 'safely': 3835, 'handle': 2124, 'dw': 1523, 'phone': 3317, 'security': 3919, 'connection': 1058, 'little': 2687, 'went': 4833, 'fly': 1894, 'berlin': 583, 'german': 2018, 'common': 1014, 'term': 4418, 'seven': 3965, 'stronger': 4273, 'actions': 234, 'reporting': 3735, 'huh': 2264, 'cbcnews': 826, 'pakistan': 3229, 'ali': 319, 'walk': 4768, 'box': 670, 'mouth': 2966, 'stick': 4237, 'quarantines': 3575, 'transit': 4547, 'zerohedge': 4991, 'bar': 527, 'gotta': 2067, 'ingat': 2403, 'daw': 1268, 'ngl': 3057, 'suspend': 4350, 'detect': 1359, 'moscow': 2959, 'worrisome': 4915, 'pollution': 3391, 'taiwan': 4377, 'diseas': 1426, 'sealed': 3901, 'isolates': 2455, 'entered': 1614, 'private': 3486, 'message': 2870, 'use': 4686, 'robot': 3803, 'certain': 850, 'place': 3336, 'ppl': 3422, 'pick': 3323, 'fearmongering': 1803, 'prepper': 3456, 'called': 758, 'yall': 4963, 'clean': 940, 'streets': 4266, 'interview': 2429, 'guangzhou': 2099, 'southern': 4137, 'student': 4281, 'lol': 2713, 'ok': 3140, 'brexit': 694, 'australian': 485, 'open': 3159, 'wet': 4837, 'photos': 3320, 'shops': 4009, 'hot': 2241, 'spring': 4185, 'add': 244, 'tourism': 4525, 'tour': 4524, 'budget': 726, 'doubling': 1482, 'surprise': 4336, 'current': 1235, 'shot': 4014, 'best': 586, 'guess': 2102, 'send': 3939, 'location': 2703, 'imposes': 2343, 'terrified': 4421, 'truth': 4591, 'podcast': 3378, 'chines': 905, 'wanna': 4774, 'house': 2250, 'hk': 2206, 'cancelled': 775, 'shutdown': 4022, 'tries': 4577, 'follow': 1902, 'happened': 2130, 'pop': 3393, 'song': 4121, 'gave': 2004, 'snakes': 4096, 'legit': 2640, 'headache': 2150, 'past': 3258, 'happy': 2133, 'boy': 671, 'using': 4692, 'issued': 2462, 'november': 3097, '2018': 64, 'patents': 3262, 'event': 1672, 'aids': 295, 'horrific': 2233, 'disturbing': 1449, 'footage': 1910, 'emerges': 1587, 'visual': 4752, 'guide': 2105, 'wallst': 4771, 'sure': 4326, 'purposely': 3560, 'able': 207, 'crowded': 1208, 'front': 1965, 'lines': 2677, '23': 74, 'recorded': 3665, 'find': 1852, 'woke': 4890, 'forexlive': 1927, 'fx': 1987, 'completely': 1028, 'asian': 449, 'department': 1340, 'consumption': 1067, 'controlled': 1090, 'surprised': 4337, 'eating': 1541, '2015': 63, 'quicktake': 3589, 'usual': 4693, 'suspect': 4347, 'snake': 4095, 'fr': 1944, 'le': 2613, 'interesting': 2425, 'development': 1369, 'showing': 4018, 'regions': 3689, 'lmao': 2694, 'understand': 4644, 'works': 4905, 'antibiotics': 381, 'leading': 2619, 'original': 3178, 'passes': 3256, 'break': 681, 'washyourhands': 4796, 'waiting': 4765, 'queue': 3585, 'outside': 3199, '22': 72, 'airborne': 298, 'yung': 4988, 'potus': 3417, 'putting': 3565, 'lockdown': 2706, 'considered': 1061, 'epicenter': 1624, 'outbrea': 3190, 'wearing': 4813, 'purpose': 3559, 'updates': 4673, 'flee': 1879, 'locked': 2708, 'di': 1374, 'visit': 4746, 'gross': 2086, 'blame': 625, 'restaurants': 3762, 'warming': 4783, 'strains': 4257, 'activated': 235, 'beg': 566, 'inform': 2399, 'followers': 1904, 'researchers': 3744, 'tipping': 4494, 'point': 3380, 'wuhanchina': 4940, 'beyond': 591, 'cars': 799, 'noodles': 3085, 'travellers': 4561, 'fg': 1829, 'nigerians': 3065, 'nigerian': 3063, 'try': 4593, 'cnbci': 973, 'drag': 1489, 'anxiety': 385, 'saw': 3859, 'app': 399, '000': 1, 'blamed': 626, 'pics': 3325, 'emerge': 1584, 'star': 4209, 'st': 4194, 'carrying': 798, 'red': 3673, 'side': 4029, 'investors': 2438, '16': 41, 'observation': 3117, 'mexican': 2876, 'inside': 2411, 'strategy': 4263, 'seen': 3927, 'pandemics': 3232, 'london': 2715, 'reveal': 3775, 'non': 3082, 'specific': 4155, 'clear': 942, 'peter': 3305, 'offer': 3126, 'kit': 2548, 'blown': 643, 'community': 1018, 'owned': 3211, 'centers': 844, 'sta': 4195, 'lagos': 2579, 'govt': 2075, 'alerts': 317, 'timeline': 4490, 'town': 4530, 'phe': 3312, 'statement': 4218, 'released': 3701, 'halts': 2120, 'fight': 1835, 'khabarhub': 2532, 'growing': 2092, 'course': 1165, 'pray': 3427, 'selling': 3933, 'koalas': 2560, 'eat': 1539, 'huanggang': 2258, 'indoor': 2374, 'grips': 2085, 'guangdong': 2098, 'local': 2701, 'yo': 4979, 'sold': 4108, 'bbcworld': 549, 'yes': 4973, 'terrible': 4420, 'brazil': 680, 'expanded': 1702, 'restrictions': 3764, 'affect': 270, 'becomes': 559, 'talks': 4384, 'coronavirusoutbreak': 1122, 'coronovirus': 1136, 'ass': 456, 'caution': 823, '1820': 48, 'cholera': 910, '1920': 51, 'bubonic': 725, 'prep': 3448, 'codx': 985, 'co': 979, 'diagnostics': 1380, 'platform': 3356, 'yahoofinance': 4962, 'nhk': 3058, 'victims': 4724, 'pre': 3432, 'existing': 1698, 'conditions': 1042, 'beware': 590, 'washing': 4793, 'cannot': 780, 'anger': 363, 'orders': 3172, 'el': 1571, 'huawei': 2259, 'grows': 2094, 'bans': 526, 'woman': 4891, 'france': 1946, 'online': 3154, 'march': 2802, 'late': 2593, 'april': 416, 'f1': 1745, 'uae': 4621, 'distract': 1445, 'appetite': 408, 'locks': 2710, 'cancels': 777, 'events': 1673, 'threatens': 4472, 'growth': 2095, 'macao': 2751, 'vic': 4721, 'philippines': 3315, 'stops': 4249, 'appearance': 404, 'accident': 221, 'stuck': 4280, 'breakfast': 683, 'wuhancoronavirus': 4941, 'singapore': 4051, 'film': 1844, 'contagion': 1070, 'channel': 868, 'japanese': 2484, 'customers': 1237, 'effort': 1564, 'level': 2650, 'cancellation': 773, 'celebrations': 837, 'used': 4687, 'vaccines': 4700, 'decade': 1291, 'biggest': 599, 'load': 2698, 'nonsense': 3084, 'nhs': 3059, 'plagueinc': 3341, 'accelerating': 217, 'nnvc': 3078, 'affects': 273, 'body': 648, 'smartnews': 4087, 'texas': 4432, 'passenger': 3254, 'sent': 3946, '50': 128, 'dubai': 1514, 'bitcoin': 622, 'profit': 3502, 'losses': 2731, 'limited': 2673, 'investigating': 2433, 'ministry': 2904, 'fxstreet': 1988, 'unitedstates': 4655, 'within': 4886, 'vietnam': 4729, 'protection': 3526, 'gear': 2008, 'alongside': 335, 'ones': 3152, 'oil': 3139, 'traders': 4538, 'threats': 4473, 'posed': 3401, 'scotland': 3887, 'reporter': 3733, 'uh': 4626, 'four': 1938, 'mentioned': 2866, 'filipinos': 1841, 'guardian': 2101, 'build': 728, 'testing': 4430, 'february': 1808, 'unprecedented': 4666, 'worrying': 4917, 'wuhanvirus': 4949, 'epidemiology': 1630, 'healthy': 2160, 'save': 3857, 'lives': 2691, 'fortune': 1933, 'failed': 1764, 'nurse': 3106, 'saudi': 3856, 'peop': 3284, 'short': 4010, 'btc': 720, 'northern': 3088, 'ireland': 2447, 'scientist': 3882, 'wake': 4766, 'ou': 3186, 'threaten': 4469, 'economy': 1550, 'canadians': 770, 'futures': 1986, 'poised': 3382, 'gain': 1991, 'game': 1994, 'easily': 1535, 'previously': 3472, '13': 26, 'factory': 1760, 'qanon': 3567, 'usatoday': 4684, 'decides': 1295, 'rumor': 3820, 'dna': 1451, 'seek': 3922, 'god': 2050, 'bid': 595, 'disrupted': 1440, 'punishment': 3556, 'uighur': 4627, 'muslims': 2982, 'gov': 2069, 'p4': 3216, 'laboratory': 2574, 'done': 1473, 'ge': 2007, 'summer': 4312, 'fell': 1820, 'idiot': 2296, 'decided': 1294, 'kung': 2569, 'ncov2019': 3020, 'publichealth': 3548, 'reminds': 3717, 'giant': 2026, 'forced': 1915, 'postpone': 3410, 'upcoming': 4670, 'safe': 3834, 'un': 4633, 'cas': 802, 'contamination': 1078, 'signal': 4036, 'hongkong': 2224, 'download': 1485, 'dedicated': 1304, 'vancouver': 4706, 'toronto': 4516, 'fan': 1779, 'vacation': 4697, 'prevention': 3468, 'centre': 846, 'mother': 2961, 'angry': 365, 'shake': 3977, 'lot': 2733, 'stopped': 4247, 'shock': 4003, 'videos': 4728, 'collapsing': 991, 'teacher': 4398, 'terror': 4424, 'edge': 1552, 'coast': 981, 'output': 3197, 'birthday': 618, 'delayed': 1318, 'plastic': 3355, 'tube': 4598, 'stuff': 4287, 'bit': 619, 'funny': 1983, 'counter': 1158, 'cough': 1151, 'simulation': 4047, 'months': 2947, 'signs': 4038, 'written': 4930, '90': 185, 'drip': 1495, 'racism': 3597, 'evidence': 1682, 'admit': 253, 'somewhat': 4118, 'exercise': 1697, 'increased': 2353, 'ban': 520, 'widens': 4858, '18': 47, 'simple': 4044, 'conspiracy': 1063, 'happening': 2131, 'arabia': 419, 'hiv': 2205, 'run': 3823, 'monitored': 2942, 'alibaba': 320, 'coffee': 986, 'politico': 3388, 'prefer': 3442, 'outbreaks': 3192, 'provide': 3537, 'colleague': 992, 'fro': 1964, 'mail': 2760, 'scottish': 3889, 'indonesia': 2372, 'line': 2675, 'forget': 1928, 'design': 1349, 'housing': 2252, 'stories': 4252, 'coughing': 1153, 'se': 3898, 'que': 3578, 'concert': 1038, 'thank': 4439, 'ima': 2314, 'soon': 4124, 'died': 1390, '600': 143, 'forever': 1925, 'wish': 4882, 'evil': 1683, 'suddenly': 4301, 'disappear': 1408, 'ebola': 1542, 'americans': 351, 'fifth': 1833, 'record': 3664, 'inovio': 2408, 'launch': 2604, 'africa': 277, 'dem': 1330, 'dey': 1373, 'helped': 2176, '2003': 58, 'owners': 3213, 'bill': 600, 'melinda': 2857, 'gates': 2000, 'french': 1956, 'tv': 4608, 'didnt': 1388, 'fox': 1940, 'bruh': 717, 'pets': 3307, 'showed': 4017, 'coul': 1155, '79': 169, 'dan': 1252, 'although': 342, 'scenarios': 3874, 'locking': 2709, 'italy': 2467, 'italian': 2466, 'coronaviruschina': 1115, 'wall': 4770, 'street': 4265, 'wisconsin': 4880, 'cina': 922, 'con': 1031, 'spraying': 4177, '30': 91, 'mild': 2891, 'cold': 989, 'large': 2586, 'playing': 3360, 'scare': 3867, 'vice': 4722, 'compare': 1021, 'curious': 1233, 'canadian': 769, 'preparing': 3455, 'mon': 2935, 'date': 1264, 'est': 1647, 'literally': 2686, 'dude': 1515, 'paul': 3267, 'locusts': 2712, 'mapping': 2797, 'counts': 1162, 'sharp': 3990, 'john': 2495, 'excellent': 1693, 'malaysia': 2778, 'near': 3026, 'adds': 249, 'editorial': 1555, 'besides': 585, 'chinacoronavirus': 898, 'sydney': 4365, 'bushfire': 743, 'smoke': 4092, 'aus': 479, 'recommendations': 3662, 'fucking': 1972, 'anti': 380, 'tells': 4410, 'journalists': 2510, 'wa': 4763, 'graphic': 2080, 'joke': 2503, 'entire': 1617, 'wiped': 4876, 'swear': 4358, 'google': 2060, 'maps': 2798, 'station': 4221, 'justice': 2519, 'mr': 2974, 'quarantining': 3576, 'illegal': 2309, 'university': 4659, 'midst': 2887, 'sending': 3940, 'rat': 3617, 'rats': 3621, 'laughs': 2603, 'surrounding': 4338, 'rn': 3799, 'hopefully': 2228, 'sanitizers': 3850, 'catching': 813, 'fool': 1908, 'originate': 3180, 'matters': 2826, 'indopac': 2376, 'different': 1395, 'voice': 4754, 'mirror': 2908, 'insane': 2409, 'financial': 1850, 'sparks': 4147, 'rest': 3759, 'worst': 4921, 'newspaper': 3054, 'random': 3613, 'comments': 1007, 'suck': 4298, 'investigation': 2434, 'nsw': 3100, 'engineered': 1606, 'planned': 3349, 'vid': 4726, 'often': 3136, 'raw': 3623, 'wonder': 4893, 'ate': 469, 'recently': 3657, 'stupid': 4289, 'origins': 3183, 'dept': 1343, 'emails': 1582, 'revealed': 3776, 'release': 3700, 'journal': 2508, 'hotel': 2243, 'refuse': 3680, 'originally': 3179, 'claimed': 934, 'su': 4292, 'ya': 4960, 'played': 3358, 'iphone': 2441, 'theory': 4449, 'paper': 3238, 'fascinating': 1785, 'piece': 3328, 'handling': 2125, 'ending': 1600, 'lyme': 2748, 'attempt': 475, 'stem': 4232, 'epochtimes': 1632, 'zombie': 4997, 'apocalypse': 397, 'frightening': 1963, 'billgates': 601, 'foundation': 1937, 'funded': 1980, 'nothing': 3092, 'turning': 4606, 'room': 3811, 'investigate': 2432, 'congress': 1055, 'fights': 1837, '830': 179, '25': 80, 'described': 1345, 'agencies': 282, 'preparations': 3450, 'deal': 1281, 'taal': 4372, 'eruption': 1638, 'series': 3956, 'earthquakes': 1531, 'presents': 3460, 'slow': 4078, 'mass': 2814, 'marketing': 2808, 'heads': 2155, 'valley': 4703, 'detailed': 1356, 'breakdown': 682, 'dia': 1375, 'highest': 2192, 'took': 4508, 'wit': 4883, 'walking': 4769, 'tower': 4529, 'diario': 1383, 'season': 3905, 'trial': 4574, 'speaks': 4151, 'extra': 1739, '800': 172, 'precautions': 3435, 'healt': 2157, 'offers': 3128, 'traditional': 4540, 'medicine': 2848, 'eight': 1568, 'fact': 1756, 'campus': 767, 'safety': 3836, 'switch': 4364, 'modelo': 2925, 'los': 2727, 'tokyo': 4501, 'spurs': 4186, 'military': 2894, 'personnel': 3302, 'coughs': 1154, 'sneezes': 4099, 'largely': 2587, 'faster': 1788, 'climbs': 950, '630': 147, 'price': 3473, '24': 76, 'yellow': 4970, 'moves': 2968, 'orange': 3168, 'breakingnews': 686, 'worldwide': 4912, 'risen': 3793, 'commission': 1009, 'federal': 1812, 'court': 1166, 'secretly': 3915, 'ordering': 3171, 'throughout': 4476, 'excuse': 1696, 'towards': 4528, 'building': 729, 'bed': 561, 'crazy': 1188, 'kerala': 2529, 'trapped': 4554, 'wuh': 4937, 'tracking': 4535, 'infects': 2392, 'received': 3655, 'luxury': 2746, 'brands': 678, 'jersey': 2487, 'exposure': 1733, 'cbs': 827, 'women': 4892, 'race': 3594, 'firms': 1867, 'estimate': 1649, 'nasdaq': 3004, 'eye': 1743, 'earnings': 1528, 'gild': 2028, 'omg': 3148, 'tennessee': 4416, 'weak': 4805, 'immune': 2325, 'feeling': 1816, 'tht': 4480, 'guy': 2108, 'estate': 1648, 'notice': 3093, 'revealing': 3777, 'isolation': 2457, 'thousands': 4465, 'narendramodi': 3001, 'evening': 1671, 'unconfirmed': 4640, 'sees': 3928, 'reaching': 3630, 'pls': 3369, 'cautious': 824, 'regardless': 3684, 'expands': 1704, 'lockdowns': 2707, 'plus': 3372, 'crash': 1187, 'spr': 4175, 'discussion': 1425, 'men': 2863, 'anymore': 388, 'embassy': 1583, 'finds': 1855, 'cheated': 877, 'checks': 881, 'headlines': 2154, 'brought': 715, 'dozens': 1487, 'mike': 2889, 'esp': 1644, 'southeast': 4136, 'places': 3338, '35': 100, 'club': 967, 'lost': 2732, 'cells': 839, 'spikes': 4167, 'nobody': 3079, 'blocking': 634, 'vehicles': 4712, 'russian': 3830, '26': 84, 'treating': 4568, 'proof': 3515, 'sing': 4050, 'humanity': 2266, 'increasing': 2355, 'value': 4704, 'burning': 739, 'half': 2118, 'supply': 4321, '14': 34, 'negative': 3034, 'ended': 1599, 'flat': 1876, 'developments': 1370, 'disneyland': 1438, 'park': 3245, 'preventing': 3467, 'possibility': 3404, 'product': 3495, 'unnecessary': 4664, 'delay': 1317, 'neo': 3037, 'hitting': 2204, 'determine': 1362, 'readiness': 3636, 'leaves': 2630, 'lying': 2747, 'deserted': 1347, 'sneezed': 4098, 'wired': 4878, 'whose': 4852, 'survived': 4343, 'teachers': 4399, 'zealand': 4989, 'accelerate': 215, 'industry': 2380, 'escaped': 1642, 'website': 4818, '201': 60, 'bunch': 737, 'british': 706, 'resort': 3749, 'saturday': 3855, 'lethal': 2646, 'tired': 4496, 'self': 3930, 'shared': 3987, 'small': 4084, 'chaos': 869, 'strikes': 4271, '33': 98, 'starts': 4214, 'topnews': 4514, 'compares': 1023, 'reduce': 3674, 'disney': 1437, 'announced': 370, 'temporary': 4413, 'closure': 962, 'figure': 1838, 'higher': 2191, 'wuhancoronovirus': 4943, 'wuhanflu': 4944, '66': 152, 'list': 2682, 'suspended': 4351, 'retweet': 3773, 'moh': 2931, 'sound': 4129, 'bloody': 638, 'love': 2735, 'mounting': 2964, 'central': 845, 'appear': 403, 'beers': 565, 'land': 2581, 'governor': 2074, 'step': 4233, 'compared': 1022, 'attention': 478, 'instead': 2414, '38': 107, 'nz': 3114, 'universities': 4658, 'among': 354, 'masses': 2816, 'hindu': 2198, 'h1n1': 2111, 'kingdom': 2546, 'dose': 1479, 'gp': 2076, 'masked': 2812, 'germs': 2020, 'guidelines': 2106, 'cnni': 977, 'concerned': 1035, 'lack': 2577, 'basic': 534, 'implications': 2336, 'raises': 3605, 'epicentre': 1625, 'chain': 853, 'suffer': 4302, 'denies': 1336, 'learn': 2625, 'unable': 4635, 'lower': 2739, 'speed': 4159, '1000': 13, 'suffering': 4303, 'triggers': 4580, 'debate': 1288, 'magazine': 2757, 'ways': 4804, 'spent': 4165, 'crucial': 1211, 'arresting': 432, 'ang': 361, 'ng': 3056, 'especially': 1645, 'issue': 2461, 'lt': 2741, 'super': 4315, 'enjoy': 1610, 'volcano': 4755, 'locust': 2711, 'west': 4834, 'plagues': 3342, 'roll': 3807, 'favorite': 1795, 'rumors': 3821, '3rd': 111, 'chill': 894, 'tf': 4434, 'ongoing': 3153, 'organisation': 3174, 'donation': 1472, 'cross': 1204, 'britain': 705, 'expects': 1709, 'klm': 2550, 'chongqing': 911, 'amidst': 353, 'petition': 3306, 'coronaviruses': 1116, 'coronoavirus': 1134, '900': 186, 'targeted': 4387, 'curb': 1228, 'rebounds': 3652, 'aussie': 481, 'bet': 587, 'yen': 4971, 'worries': 4914, 'auspol': 480, 'everybody': 1677, 'fighting': 1836, 'thehill': 4444, 'yang': 4964, 'flew': 1881, 'packed': 3223, 'rally': 3608, 'predicted': 3437, '65': 151, 'ran': 3612, 'feels': 1818, 'energy': 1603, 'bearish': 553, 'mood': 2949, 'force': 1914, 'af': 267, 'equipped': 1634, 'aware': 500, 'road': 3801, 'yeah': 4967, 'corpses': 1139, 'left': 2636, 'floor': 1889, 'lessons': 2644, 'learned': 2626, 'zone': 4999, 'battles': 542, 'al': 310, 'jazeera': 2485, 'bio': 607, 'weapon': 4808, 'thr': 4466, 'cancellations': 774, 'exclusive': 1695, 'moment': 2933, 'programs': 3505, 'soar': 4102, 'hey': 2184, 'available': 492, 'infecting': 2387, 'closing': 961, 'weekly': 4823, 'style': 4291, 'ontario': 3155, 'causes': 821, 'appeared': 405, 'sneeze': 4097, 'lists': 2685, 'alerted': 316, 'solution': 4112, 'sensitive': 3945, 'images': 2316, 'sets': 3963, 'fine': 1856, 'till': 4487, 'contracts': 1088, 'blames': 627, 'complex': 1029, 'easier': 1534, 'suspicion': 4354, 'results': 3766, 'hour': 2248, 'quite': 3592, 'la': 2572, '28': 86, 'levels': 2651, 'glad': 2037, 'thousand': 4464, 'lady': 2578, 'hand': 2123, 'keeping': 2524, 'ag': 280, 'steve': 4236, 'helping': 2178, 'equities': 1635, 'leads': 2620, 'builds': 731, 'block': 631, 'touched': 4521, '63': 146, 'standard': 4204, 'seasonal': 3906, 'everywhere': 1681, 'unbelievable': 4636, 'nd': 3024, 'manufactured': 2790, 'destroy': 1353, 'gives': 2035, 'sky': 4067, 'remain': 3710, 'smallpox': 4085, 'illinois': 2310, 'verge': 4715, 'rush': 3828, 'hav': 2143, 'asking': 454, 'schools': 3878, 'act': 231, 'hosted': 2239, 'outb': 3187, 'deploys': 1341, 'assist': 462, 'hours': 2249, 'shift': 3994, 'approaches': 411, 'memes': 2862, 'fun': 1978, 'iranian': 2444, 'telling': 4409, 'duty': 1522, 'forbes': 1913, 'regarding': 3683, 'details': 1357, 'responsible': 3758, 'coincidence': 987, 'future': 1985, 'israel': 2458, 'ugh': 4624, 'pace': 3218, 'built': 732, 'dc': 1273, 'hire': 2200, 'rights': 3789, 'address': 248, 'hard': 2134, 'keeps': 2525, 'prince': 3476, 'pence': 3280, 'cepi': 849, 'coverage': 1171, 'kim': 2541, 'clinical': 952, 'behind': 573, 'looking': 2720, 'mumbai': 2980, 'ward': 4780, 'set': 3962, 'drops': 1508, 'freaked': 1951, 'flying': 1895, 'epidemiological': 1628, 'predictions': 3439, 'photo': 3319, 'young': 4982, 'liked': 2664, 'visitors': 4750, 'incubation': 2358, 'wu': 4935, 'respirator': 3752, 'port': 3398, 'services': 3960, 'lie': 2656, 'governments': 2073, '08': 8, 'thinking': 4457, 'celebrate': 836, 'phase': 3311, 'wi': 4855, 'question': 3582, 'enough': 1611, 'resources': 3750, 'crown': 1210, 'dropping': 1507, 'detained': 1358, 'europe': 1657, 'somebody': 4114, 'plain': 3343, 'bye': 753, 'protecting': 3525, 'crossing': 1206, 'facemasks': 1750, 'beat': 554, 'pirbright': 3331, 'institute': 2415, 'spike': 4166, 'sales': 3841, 'falling': 1773, 'jump': 2515, 'species': 4154, 'jesus': 2488, 'enforce': 1604, 'greater': 2083, 'stan': 4202, 'ab': 200, 'mine': 2899, 'write': 4927, 'wanted': 4776, 'bleach': 629, 'pure': 3558, 'si': 4025, 'dream': 1491, 'shoot': 4006, 'fatal': 1789, 'briton': 707, 'movies': 2970, 'mention': 2865, 'shown': 4019, 'rip': 3791, 'expecting': 1708, 'laurie': 2607, 'garrett': 1998, 'helenbranswell': 2172, 'capable': 783, 'afraid': 276, 'metro': 2874, 'nih': 3070, 'discuss': 1421, 'emerged': 1585, 'fucked': 1970, 'manufacturer': 2791, 'coronavir': 1112, 'lancet': 2580, 'wow': 4924, 'travelling': 4562, 'everyday': 1678, 'bbcbreaking': 547, 'cnnbrk': 976, 'goverment': 2070, 'bts': 721, 'awesome': 503, 'calm': 761, 'reason': 3649, 'approach': 410, 'breitbartnews': 693, 'class': 938, 'bay': 545, 'honestly': 2221, 'bull': 733, 'president': 3461, 'office': 3129, 'throw': 4477, 'isnt': 2452, 'circulating': 923, 'ny': 3109, 'travelled': 4560, 'basically': 535, 'fall': 1772, 'faculty': 1762, 'imperial': 2334, 'feed': 1813, 'virologist': 4737, 'msm': 2975, 'announce': 369, 'cured': 1231, 'discharged': 1414, 'discover': 1415, 'dish': 1431, 'version': 4717, 'concept': 1033, 'support': 4322, 'pay': 3269, 'respect': 3751, 'huge': 2263, 'dat': 1262, 'allah': 323, 'parents': 3243, 'son': 4120, 'stated': 4217, '36': 103, 'il': 2307, 'field': 1832, 'germany': 2019, 'googlealerts': 2061, 'activity': 239, 'declared': 1298, 'ravaged': 3622, 'eyes': 1744, 'medic': 2845, '350': 101, 'nationals': 3008, 'headline': 2153, 'lord': 2726, 'wildfire': 4865, 'nc': 3017, 'visited': 4747, 'receive': 3654, 'email': 1581, 'wan': 4773, 'preventive': 3469, 'advice': 260, 'traffic': 4541, 'relation': 3696, 'outlets': 3195, 'coronarovirus': 1108, 'exceed': 1691, 'limits': 2674, 'sister': 4055, 'believed': 577, 'latin': 2599, 'caribbean': 792, 'howroute': 2254, 'political': 3386, 'pain': 3227, 'dare': 1258, 'tag': 4376, 'trust': 4590, 'containing': 1074, 'european': 1658, 'posts': 3413, 'losing': 2729, 'thoughts': 4463, 'sector': 3917, 'mortgage': 2958, 'epidemics': 1627, 'nbc': 3015, 'stream': 4264, 'tourist': 4526, 'mobile': 2921, 'foo': 1906, 'predict': 3436, 'jackposobiec': 2474, 'dogs': 1462, 'grand': 2079, 'hello': 2174, 'hotline': 2245, 'analysis': 358, 'niggas': 3067, 'director': 1403, 'stress': 4267, 'cuz': 1242, 'alarming': 313, 'donald': 1467, 'surgical': 4332, 'humor': 2269, 'stricken': 4268, 'mfs': 2878, 'meant': 2837, 'african': 278, 'focus': 1898, 'absolutely': 210, 'inevitable': 2381, 'indicates': 2369, '39': 109, 'alone': 333, 'researcher': 3743, 'predicts': 3440, '250': 81, 'ten': 4414, 'bless': 630, 'text': 4433, 'prof': 3498, 'bottom': 665, 'wor': 4896, 'vitamin': 4753, 'ur': 4676, 'frequently': 1957, 'senator': 3938, 'tom': 4505, 'cotton': 1148, 'consider': 1060, '00': 0, 'knew': 2551, 'boss': 661, 'features': 1805, 'bitch': 620, 'throwing': 4478, 'goodness': 2058, 'vs': 4761, 'planning': 3350, 'sunday': 4314, 'flown': 1892, 'chi': 885, 'husband': 2278, 'wants': 4778, 'users': 4690, 'comparing': 1024, 'tweeted': 4612, 'finally': 1848, 'exposed': 1730, 'art': 440, 'ju': 2513, 'cctv': 832, 'network': 3041, '05': 6, '40': 112, 'either': 1570, 'analyst': 359, 'upon': 4675, 'finish': 1858, 'registered': 3690, 'nearly': 3027, 'deserve': 1348, 'chan': 860, 'ar': 417, 'biotech': 609, 'opened': 3160, 'finna': 1861, 'foot': 1909, 'profits': 3503, 'identify': 2295, 'verify': 4716, 'parts': 3250, 'push': 3561, 'swift': 4360, 'solid': 4109, 'fill': 1842, 'deadliest': 1279, 'victoria': 4725, 'germ': 2017, 'airplane': 302, 'drop': 1504, 'brother': 714, 'opinion': 3165, 'process': 3492, 'miss': 2910, 'wipe': 4875, '400': 113, 'track': 4533, 'assessment': 460, 'nejm': 3036, '700': 158, 'melbourne': 2856, 'newpaper24': 3048, 'fake': 1771, 'carrier': 795, 'nervous': 3039, '99': 197, 'part': 3246, 'diagnosis': 1378, 'kind': 2542, 'induced': 2377, 'tbh': 4395, 'selloff': 3934, 'beach': 551, 'refuses': 3682, 'explainer': 1719, 'scmpgraphics': 3885, 'readies': 3635, 'extreme': 1741, 'immediate': 2321, 'reminder': 3716, 'johns': 2496, 'hopkins': 2231, 'usually': 4694, 'bi': 594, 'construction': 1065, 'sh': 3973, 'tl': 4497, 'ignorant': 2303, 'meme': 2861, 'mark': 2805, 'um': 4632, 'spelled': 4161, 'advance': 257, 'paranoid': 3241, 'imma': 2320, 'soap': 4101, 'karma': 2521, 'dumb': 1517, 'foxbusiness': 1941, 'eradicated': 1636, 'facts': 1761, 'tuned': 4602, 'prior': 3479, 'appeal': 402, 'import': 2337, 'prayers': 3429, 'army': 428, 'knowledge': 2556, '48': 125, 'bullshit': 736, 'ends': 1601, 'claim': 933, 'fails': 1766, 'passed': 3253, 'checked': 879, 'tu': 4597, 'investment': 2436, 'strategists': 4262, 'citizen': 927, 'ncov19': 3019, 'crowd': 1207, 'fema': 1823, 'law': 2608, 'colorado': 995, 'without': 4887, 'gloves': 2044, 'drericding': 1492, 'differences': 1394, 'gone': 2054, 'criticism': 1203, '103': 14, 'touching': 4522, 'bags': 517, 'rid': 3785, 'wuflu': 4936, 'accepted': 219, 'thus': 4482, 'ev': 1659, 'strong': 4272, 'xhnews': 4955, 'eliminate': 1575, 'ni': 3060, 'window': 4870, 'boom': 655, 'urges': 4680, 'prisoner': 3483, 'slowing': 4080, 'explains': 1721, 'percentage': 3289, 'chine': 904, 'tr': 4532, 'reduces': 3675, 'rich': 3783, 'cell': 838, 'amazon': 345, 'packages': 3222, 'plz': 3373, 'extremely': 1742, 'anyway': 391, 'politics': 3389, 'necessary': 3030, 'crude': 1212, 'struggle': 4277, 'plunged': 3371, 'coro': 1103, 'joins': 2501, 'ugly': 4625, 'lied': 2657, 'active': 236, 'nationwide': 3010, 'leader': 2616, 'declares': 1299, 'fashion': 1786, 'proud': 3533, 'figures': 1839, 'spoke': 4169, 'xinjiang': 4957, 'versus': 4718, 'strike': 4270, 'loose': 2725, 'warfare': 4781, 'labs': 2576, 'largest': 2588, 'christian': 915, 'misinformation': 2909, 'studio': 4284, 'citywide': 931, 'visits': 4751, 'ad': 243, 'easy': 1538, 'affecting': 272, 'vi': 4719, 'somehow': 4115, 'korean': 2565, 'anywhere': 393, 'loved': 2736, 'zimbabwe': 4996, 'unprepared': 4667, 'present': 3459, 'provides': 3539, 'contracting': 1087, 'condition': 1041, 'battling': 543, 'toilet': 4500, 'school': 3877, 'ecdc': 1544, 'eu': 1656, 'malaysian': 2779, 'tracker': 4534, 'tool': 4509, 'flood': 1886, 'nuclear': 3102, 'wo': 4888, 'queensland': 3581, 'races': 3595, 'nurses': 3107, 'bodies': 647, 'protected': 3524, 'disagree': 1407, 'suggest': 4304, 'biological': 608, 'liverpool': 2690, 'bottle': 664, 'tw': 4609, '170': 44, 'express': 1734, 'urgent': 4679, 'stigma': 4238, 'led': 2634, 'ccpchina': 831, 'whoever': 4850, 'universe': 4657, 'continued': 1082, 'useless': 4689, 'trend': 4571, 'lassa': 2591, 'fever': 1826, 'girls': 2032, 'throat': 4475, 'sore': 4125, 'latestcomments': 2597, 'regards': 3685, 'individuals': 2371, 'protest': 3530, 'minute': 2906, 'carriers': 796, 'supposed': 4324, 'religion': 3708, 'survival': 4341, 'surfaces': 4328, 'terrorism': 4425, 'bullish': 735, 'hiding': 2189, 'education': 1557, 'timesofindia': 4492, '5g': 140, 'fingers': 1857, 'reference': 3678, 'clinic': 951, 'based': 532, 'disappeared': 1409, 'imagine': 2317, 'indicate': 2368, 'priority': 3481, 'facilities': 1753, 'diagnose': 1376, 'specialist': 4153, 'evacuate': 1661, 'campaign': 765, 'teams': 4401, 'aussies': 482, 'fault': 1794, 'adding': 246, 'continue': 1081, 'occur': 3122, 'guard': 2100, 'moving': 2971, 'nowhere': 3098, 'sudden': 4300, 'normal': 3086, 'pa': 3217, 'owns': 3214, 'realtime': 3648, 'click': 945, 'background': 510, 'pressure': 3463, 'org': 3173, 'admits': 254, 'giving': 2036, 'sad': 3833, 'shall': 3980, 'monday': 2936, 'artist': 445, 'considering': 1062, 'status': 4226, 'containment': 1075, 'tweeting': 4613, 'evacuation': 1665, 'haha': 2114, 'facebook': 1748, 'stupidity': 4290, 'highlights': 2193, 'deadlier': 1278, 'awareness': 501, 'ignore': 2304, 'regime': 3686, 'impacts': 2331, 'weapons': 4811, 'chemical': 882, 'agent': 285, 'mo': 2920, 'fa': 1746, 'somewhere': 4119, 'broken': 713, 'answer': 376, 'renamed': 3723, 'battle': 541, 'shakes': 3978, 'faith': 1770, 'reality': 3642, 'fir': 1862, 'bali': 519, 'accused': 227, 'engineering': 1607, 'wondering': 4894, 'protests': 3532, 'ch': 852, 'desperate': 1351, 'headed': 2151, 'joking': 2505, 'dramatic': 1490, 'member': 2859, 'meetings': 2854, 'accurate': 226, 'kindly': 2544, 'googling': 2063, 'charter': 875, 'explaining': 1720, 'casualty': 809, 'mutated': 2985, 'havoc': 2145, 'language': 2584, 'incurable': 2359, 'war': 4779, 'poor': 3392, 'though': 4461, 'remedy': 3714, 'experimental': 1714, 'coronaoutbreak': 1105, 'coronarvirus': 1110, 'ordered': 3170, 'agreed': 290, 'digital': 1397, 'hidden': 2187, 'rep': 3726, 'terrifying': 4422, 'useful': 4688, 'smoking': 4093, 'afghanistan': 274, 'ha': 2112, '1918': 50, 'answers': 378, 'nebraska': 3029, 'radio': 3600, 'effects': 1563, 'du': 1512, 'te': 4397, 'blowing': 642, 'exact': 1687, 'senate': 3937, 'bigger': 598, 'corner': 1102, 'board': 646, 'tracks': 4536, '60': 142, 'wil': 4862, 'queen': 3579, 'massive': 2817, 'minutes': 2907, 'alot': 336, 'dec': 1290, '31': 95, 'forum': 1934, 'speaking': 4150, 'recover': 3667, 'hmm': 2207, 'concentration': 1032, 'camps': 766, 'thru': 4479, 'zombies': 4998, 'win': 4868, 'except': 1694, 'deleted': 1322, 'postponed': 3411, 'secpompeo': 3911, 'managing': 2786, 'arizona': 425, '95': 192, 'fl': 1873, 'games': 1995, 'icu': 2288, 'presumptive': 3464, '42': 115, 'listen': 2683, 'globally': 2041, 'stores': 4251, 'crushthestreet': 1218, 'exposes': 1731, 'core': 1101, 'flaws': 1878, 'governance': 2071, 'shaking': 3979, 'pass': 3252, 'bu': 723, 'ambulance': 348, 'chief': 889, 'choice': 909, 'scenario': 3873, 'recreate': 3672, '54': 132, 'managed': 2784, 'sneezing': 4100, 'action': 233, 'tried': 4576, 'blood': 637, 'history': 2201, 'peopl': 3285, 'administration': 252, 'material': 2822, 'clout': 965, 'olympics': 3146, 'door': 1477, 'space': 4140, 'sat': 3854, 'interest': 2423, 'yt': 4986, 'ci': 921, 'jama': 2478, 'fiweh': 1872, 'epidemiologist': 1629, 'blue': 644, '550': 133, 'effective': 1561, 'oann': 3115, 'reaction': 3632, 'react': 3631, 'swiftly': 4361, 'century': 847, 'studies': 4283, 'posting': 3409, 'credible': 1194, 'dad': 1246, 'abroad': 209, 'evacuates': 1663, 'accelerates': 216, 'telegraph': 4407, 'beating': 555, 'holding': 2213, 'daughter': 1266, 'chat': 876, 'view': 4730, 'topic': 4512, 'detection': 1361, 'earth': 1529, 'ft': 1967, 'banks': 524, 'tim': 4488, 'cook': 1095, 'apple': 409, 'donate': 1468, 'relief': 3706, 'problems': 3491, 'provinces': 3541, 'raise': 3603, 'wuhanlockdown': 4945, 'seeking': 3923, 'happen': 2129, 'carbon': 787, '56': 134, 'tryna': 4595, 'recovered': 3668, 'ltimo': 2742, 'moderna': 2929, 'gracias': 2077, 'asap': 446, 'numbers': 3105, 'smith': 4091, '80': 171, 'liberal': 2655, 'trudeau': 4585, 'buildings': 730, 'san': 3846, 'francisco': 1949, 'hurts': 2277, 'novelcoronavirus': 3096, 'agency': 283, 'laughing': 2602, 'sign': 4035, 'crush': 1217, 'hotels': 2244, 'faces': 1751, 'nigga': 3066, 'coughed': 1152, 'stand': 4203, 'maga': 2756, 'feb': 1807, 'opportunity': 3166, 'credit': 1195, 'southkorea': 4138, 'ke': 2522, 'escape': 1641, 'immunity': 2326, 'buying': 751, 'propaganda': 3516, 'host': 2238, 'prediction': 3438, 'deep': 1306, '52': 130, 'agree': 289, 'honest': 2220, 'cute': 1239, 'honey': 2222, 'dashboard': 1261, 'thinks': 4458, 'vast': 4709, 'majority': 2769, 'wh': 4838, 'plainly': 3344, 'appears': 407, 'france24': 1947, 'donating': 1471, 'comment': 1006, 'western': 4836, 'informative': 2401, 'fans': 1780, 'attending': 477, 'seoul': 3950, 'concerts': 1039, 'tha': 4436, 'advises': 264, 'locals': 2702, 'communism': 1015, 'solve': 4113, 'climbing': 949, 'pictures': 3327, 'internet': 2428, 'senior': 3942, 'suggested': 4305, 'worth': 4922, 'braces': 675, 'strange': 4259, 'sha': 3974, 'praises': 3425, 'evacuated': 1662, 'expect': 1705, 'spit': 4168, 'relies': 3707, 'breathe': 691, 'gen': 2009, 'pakistani': 3230, 'buses': 741, 'kuwait': 2571, 'ver': 4714, 'overheard': 3203, 'tighten': 4484, 'protective': 3527, 'disasters': 1412, 'willing': 4867, 'empty': 1596, 'match': 2819, 'binance': 606, 'pledges': 3366, 'quicker': 3587, 'proven': 3535, 'society': 4105, 'whistleblower': 4844, 'itv': 2470, 'elderly': 1572, 'systems': 4370, 'invented': 2431, 'eng': 1605, 'swiss': 4363, 'horrible': 2232, 'oc': 3120, 'feelings': 1817, 'average': 493, 'oz': 3215, 'ability': 206, 'football': 1911, 'matches': 2820, 'sport': 4172, 'single': 4052, 'registers': 3691, 'individual': 2370, 'xenophobic': 4954, 'measles': 2839, 'porn': 3397, 'mp': 2972, 'winning': 4873, 'league': 2621, 'praying': 3431, 'modern': 2928, 'genuinely': 2016, 'return': 3769, 'bacteria': 511, 'evaluated': 1669, 'turned': 4605, 'awful': 504, 'perfect': 3290, 'storm': 4253, 'exists': 1699, 'filthy': 1846, 'struggles': 4278, 'brief': 696, 'confident': 1047, 'awards': 499, 'ajenglish': 308, 'complete': 1027, 'ani': 366, 'nation': 3006, 'adult': 256, 'scottmorrisonmp': 3890, 'steal': 4230, 'weaponize': 4809, 'challenge': 857, 'winter': 4874, 'fully': 1977, 'problem': 3490, 'pose': 3400, 'fyi': 1989, 'studying': 4286, 'miles': 2892, 'aside': 451, 'unfortunately': 4648, 'direct': 1401, 'result': 3765, 'importing': 2340, 'realize': 3643, 'amongst': 355, 'per': 3287, 'strategies': 4260, 'pro': 3488, 'sequencing': 3955, 'experience': 1711, 'capacity': 784, 'malay': 2777, 'tokyo2020': 4502, 'author': 487, 'actual': 240, 'estimated': 1650, 'tds': 4396, 'father': 1792, 'answered': 377, 'ep': 1622, 'lawrence': 2610, 'camp': 764, 'democrats': 1333, 'imp': 2327, 'lysol': 2750, 'casts': 808, 'doubt': 1483, 'danger': 1254, 'production': 3496, 'aapl': 199, 'trading': 4539, 'newsletter': 3052, 'kept': 2528, 'infographic': 2398, 'explodes': 1723, 'yea': 4966, 'delivers': 1327, '76': 166, 'district': 1448, 'sho': 4002, 'fuckin': 1971, 'dark': 1259, 'lately': 2594, 'vote': 4758, 'connecticut': 1057, 'popular': 3394, 'allows': 330, 'premier': 3447, 'worsens': 4919, 'ivory': 2472, 'ko': 2559, 'sana': 3847, 'scarier': 3870, 'announcement': 371, 'schedule': 3876, 'mea': 2833, 'poll': 3390, 'management': 2785, 'recovery': 3671, 'cruise': 1213, 'extend': 1736, 'festival': 1825, 'fallout': 1774, 'tesla': 4427, 'bioweapon': 611, 'increasingly': 2356, 'fatality': 1791, '83': 178, 'publishes': 3550, 'jones': 2506, 'wrote': 4932, 'trigger': 4578, 'alcohol': 314, 'impossible': 2344, 'spending': 4164, 'ctv': 1225, 'aka': 309, 'topbuzz': 4511, 'permanent': 3296, 'soo': 4123, 'documented': 1459, 'becoming': 560, 'gas': 1999, 'sake': 3839, 'performance': 3291, 'athletics': 470, 'championships': 859, 'ca': 754, 'hypochondriac': 2281, 'francis': 1948, 'prayer': 3428, 'ischinar': 2450, 'sanitizer': 3849, 'transmit': 4549, 'methods': 2873, 'pak': 3228, 'content': 1079, 'bars': 530, 'intensify': 2420, 'newsfusion': 3051, 'hoaxes': 2211, 'theories': 4448, 'stone': 4245, 'interactive': 2422, 'coronaviruscanada': 1114, '29': 89, 'solomonyue': 4111, 'nose': 3089, 'frontline': 1966, 'tariff': 4390, 'agents': 286, 'stats': 4225, 'helpful': 2177, 'doesnt': 1460, 'continuing': 1084, 'drugs': 1511, 'soars': 4103, 'angeles': 362, 'massachusetts': 2815, 'pdchina': 3273, 'featuring': 1806, 'skynews': 4068, 'consume': 1066, 'role': 3806, 'virginia': 4736, 'cent': 842, 'property': 3519, 'michigan': 2883, 'indiana': 2366, 'items': 2469, 'chen': 883, 'drug': 1510, 'kobe': 2561, 'bryant': 718, 'goa': 2048, 'evacuating': 1664, 'remove': 3719, 'abbvie': 202, 'coronavirusfrance': 1118, 'coronaviruswuhan': 1130, 'peace': 3275, 'legend': 2639, 'realized': 3644, 'spelling': 4162, 'episode': 1631, 'biden': 596, 'greatest': 2084, 'distribution': 1447, 'maricopa': 2804, 'targets': 4389, 'passing': 3257, 'expanding': 1703, 'sucks': 4299, 'latimes': 2598, 'fires': 1865, 'watched': 4799, 'outta': 3200, 'assess': 459, 'job': 2493, '5th': 141, 'sweden': 4359, 'lies': 2658, 'blockchain': 632, 'vegas': 4711, 'lose': 2728, 'brink': 703, 'staying': 4228, 'ard': 420, 'exceeds': 1692, 'mate': 2821, 'worlds': 4911, 'airlift': 299, 'sentence': 3947, 'hongkongfp': 2225, 'sense': 3943, 'idiots': 2298, 'pharmaceutical': 3310, 'secret': 3912, 'anonymous': 374, 'missing': 2912, 'economics': 1546, 'apart': 395, 'discovery': 1418, 'harder': 2135, 'asu': 467, 'stat': 4215, 'christmas': 917, 'island': 2451, 'apartment': 396, 'iraq': 2446, 'silent': 4041, 'convinced': 1094, 'alabama': 311, 'stopping': 4248, 'arrive': 436, 'papers': 3239, 'respond': 3754, 'unexpected': 4647, 'recap': 3653, 'funding': 1981, 'card': 788, 'yahoo': 4961, 'fda': 1797, 'cleared': 943, 'approved': 413, 'meets': 2855, 'protects': 3528, 'specifically': 4156, 'ftse': 1968, 'master': 2818, 'protesters': 3531, 'proposed': 3522, 'jumped': 2516, 'followed': 1903, 'ea': 1525, 'fearful': 1801, 'supplies': 4320, 'fragile': 1945, 'cool': 1097, 'tally': 4385, 'collapse': 990, 'power': 3419, 'cryptocurrency': 1222, 'understanding': 4645, 'thelancet': 4446, 'mapped': 2796, 'gnews202064': 2046, 'challenges': 858, 'chris': 913, 'barely': 529, 'heat': 2167, '46': 123, 'degrees': 1315, 'broke': 712, 'children': 893, 'mins': 2905, 'owner': 3212, 'lobster': 2700, 'michael': 2882, 'impacted': 2329, 'delta': 1329, 'changes': 866, 'edition': 1554, 'holds': 2214, 'bush': 742, 'tax': 4393, 'tiktok': 4486, 'worldnews': 4909, 'attack': 472, 'hosts': 2240, 'steam': 4231, 'oms': 3149, '161': 42, 'usd': 4685, 'fed': 1811, 'yuan': 4987, 'nj': 3077, 'survive': 4342, 'weather': 4815, 'damage': 1250, 'wuhanoutbreak': 4946, 'charity': 873, 'wales': 4767, 'scrambles': 3892, 'evac': 1660, 'carried': 794, 'strict': 4269, 'booked': 654, 'harvard': 2139, 'po': 3377, 'wikipedia': 4861, 'strategist': 4261, 'site': 4057, 'speak': 4148, 'lmfao': 2695, 'perhaps': 3292, 'priorities': 3480, 'burn': 738, 'age': 281, 'anybody': 387, 'lymes': 2749, 'questioned': 3583, 'rna': 3800, 'receptor': 3658, 'gene': 2010, 'tough': 4523, 'suicide': 4308, 'members': 2860, 'bbcnews': 548, 'brits': 709, 'picture': 3326, 'flooding': 1887, 'nba': 3014, 'meltdown': 2858, 'notes': 3091, 'contacts': 1069, 'biowarfare': 610, 'indians': 2367, 'bushfires': 744, 'confidence': 1046, 'classes': 939, 'manila': 2789, 'survey': 4340, 'interviewed': 2430, 'statistics': 4223, 'ambassador': 346, 'heartbreaking': 2165, 'economists': 1549, 'bloomberg': 639, 'implemented': 2335, 'loss': 2730, 'chang': 863, 'assets': 461, '81': 174, 'antiviral': 383, 'mongolia': 2940, 'sports': 4173, 'britons': 708, 'shocking': 4005, 'hurt': 2275, 'reviews': 3782, 'imports': 2341, 'jakarta': 2477, 'joy': 2512, 'sink': 4053, 'havens': 2144, 'hint': 2199, 'pharma': 3309, 'surges': 4331, 'forgot': 1929, 'account': 224, 'alright': 339, 'sensex': 3944, 'sigh': 4033, 'hoax': 2210, 'accept': 218, 'tumble': 4600, '3000': 93, 'spark': 4144, 'distress': 1446, 'uncertainties': 4637, 'ino': 2407, 'realizing': 3645, 'catastrophe': 811, 'ideas': 2292, 'bombshell': 650, 'botswana': 663, 'sight': 4034, '220': 73, 'mor': 2951, 'cambodia': 762, 'tip': 4493, 'saving': 3858, 'xrp': 4959, 'meds': 2851, 'asians': 450, 'influence': 2394, 'wide': 4856, 'spain': 4141, 'fleeing': 1880, 'philippine': 3314, 'attacks': 474, 'hundred': 2271, 'mayor': 2830, 'products': 3497, 'trends': 4573, 'rates': 3619, 'bangkok': 521, 'ethiopia': 1654, 'hai': 2116, 'ye': 4965, 'paying': 3270, 'ed': 1551, 'manage': 2783, 'evacuations': 1666, 'cbsnews': 828, 'iii': 2306, 'refused': 3681, 'dutch': 1520, 'silver': 4042, 'hype': 2280, 'seventh': 3966, '78': 168, 'false': 1776, 'accounts': 225, 'whosearo': 4853, 'pahowho': 3225, 'whoemro': 4849, 'whoafro': 4848, 'essential': 1646, 'slide': 4075, 'politicians': 3387, 'blaming': 628, 'icymi': 2289, 'remains': 3711, 'dip': 1399, 'bought': 666, 'iowa': 2440, 'partners': 3249, 'spokesman': 4170, 'female': 1824, '44': 119, 'projects': 3510, 'jobs': 2494, 'assistance': 463, 'sri': 4192, 'lanka': 2585, '43': 118, 'ironic': 2448, 'eerie': 1558, 'quiet': 3590, 'srilanka': 4193, '73': 164, 'employees': 1593, 'stranded': 4258, 'trips': 4583, 'q1': 3566, 'pending': 3281, 'eric': 1637, 'letting': 2649, 'fund': 1979, 'silenced': 4040, 'cat': 810, 'along': 334, 'preparedness': 3453, 'thi': 4452, 'chart': 874, 'charge': 871, 'temporarily': 4412, 'statnews': 4224, 'blow': 640, 'bond': 651, 'bets': 588, 'arrests': 433, 'activist': 237, 'cleaning': 941, 'ensure': 1612, 'asymptomatic': 468, 'brown': 716, 'views': 4731, 'fuel': 1973, 'gop': 2064, '110': 20, 'auto': 491, 'stage': 4198, 'authority': 490, 'ticket': 4483, 'updayuk': 4674, 'luck': 2743, 'laughed': 2601, 'reducing': 3676, 'path': 3263, 'store': 4250, 'triggered': 4579, 'prompts': 3514, 'scramble': 3891, 'records': 3666, 'continent': 1080, 'relate': 3694, 'kid': 2534, 'uni': 4649, 'unit': 4653, 'reasons': 3650, 'scam': 3865, 'twice': 4615, 'floods': 1888, 'sentiment': 3948, 'op': 3157, 'former': 1931, 'skip': 4066, 'btw': 722, 'physicians': 3321, 'bear': 552, 'urge': 4677, 'spx': 4188, 'medicines': 2849, 'dropped': 1506, 'rallies': 3607, 'citing': 926, 'sectors': 3918, 'foxconn': 1942, 'samsung': 3845, 'factories': 1758, 'lil': 2668, 'quit': 3591, 'racing': 3596, 'incoming': 2351, 'evacuees': 1668, 'habits': 2113, 'program': 3504, 'mainstream': 2765, 'vp': 4760, 'election': 1573, 'virtual': 4739, 'slump': 4083, '68': 153, 'brave': 679, 'pregnant': 3444, 'ross': 3813, 'beds': 562, '19': 49, 'leaders': 2617, 'bank': 523, 'industries': 2379, 'forefront': 1921, 'professional': 3499, '61': 145, '45': 121, 'reporters': 3734, 'commodity': 1013, 'businesses': 746, 'eh': 1567, 'driven': 1497, 'crying': 1220, 'shanxi': 3983, 'hat': 2141, 'batch': 537, 'idiotic': 2297, 'yield': 4976, 'justintrudeau': 2520, 'caucus': 817, 'legal': 2638, 'consequences': 1059, 'shipped': 3998, 'fe': 1798, 'affairs': 269, 'hide': 2188, 'morgan': 2953, 'plasma': 3354, 'solidarity': 4110, 'windows': 4871, 'larry': 2589, 'book': 653, 'delaying': 1319, '32': 96, 'canceled': 772, 'discusses': 1423, 'sustained': 4356, 'slip': 4077, 'panicking': 3237, 'shortage': 4011, '106': 16, 'critical': 1202, 'hashtag': 2140, 'din': 1398, 'missed': 2911, 'disgusting': 1430, 'undergo': 4641, 'oklahoma': 3142, 'runs': 3825, 'speakerpelosi': 4149, 'destroying': 1354, 'ct': 1224, 'trouble': 4584, 'nyc': 3110, 'floating': 1885, 'cos': 1144, 'smartphone': 4088, 'florida': 1890, 'claiming': 935, 'spot': 4174, '53': 131, 'gmt': 2045, 'peak': 3276, 'areas': 422, 'experienced': 1712, 'icao': 2286, 'independent': 2362, 'significant': 4037, 'pussy': 3562, 'deemed': 1305, 'issuing': 2464, 'visas': 4745, 'terrorist': 4426, 'terms': 4419, 'suspicious': 4355, 'plenty': 3367, 'beef': 563, 'pizza': 3333, 'persons': 3303, 'delhi': 1323, 'pti': 3546, 'tightens': 4485, 'qatar': 3569, 'standards': 4205, 'worl': 4906, 'recommends': 3663, 'outbre': 3189, 'chinatown': 901, 'tops': 4515, 'spray': 4176, 'plunge': 3370, 'mag': 2755, 'rule': 3818, 'chinadaily': 899, 'refer': 3677, 'bavaria': 544, 'car': 786, 'marc': 2801, 'siegel': 4031, 'example': 1690, '2000': 56, 'unlikely': 4663, 'allowing': 329, 'declines': 1302, 'worked': 4900, 'genius': 2013, 'yields': 4977, 'lka': 2693, 'iam': 2284, 'lifts': 2661, 'fi': 1830, 'investor': 2437, 'stanley': 4208, 'environment': 1620, 'sam': 3842, 'indeed': 2360, 'supermarket': 4317, 'shopping': 4008, 'placed': 3337, 'weaponized': 4810, 'tackling': 4375, 'allegedly': 325, 'restaurant': 3761, 'shaheen': 3976, 'bagh': 516, 'crowds': 1209, 'changing': 867, 'fit': 1870, 'han': 2122, 'stole': 4244, 'straight': 4255, 'breath': 690, 'cruises': 1214, 'cancelling': 776, 'surpasses': 4334, 'educate': 1556, 'disrupt': 1439, 'nikkei': 3072, 'coronarvirues': 1109, 'tune': 4601, 'richard': 3784, 'wegen': 4825, 'depopulation': 1342, 'agenda': 284, 'mental': 2864, 'therefore': 4451, 'res': 3739, 'ship': 3995, 'skinnergj': 4065, 'benefit': 582, 'angle': 364, 'setting': 3964, 'nairobi': 2997, 'shots': 4015, 'ie': 2300, 'wasnt': 4797, 'aviation': 495, 'drivers': 1499, 'coronavirusuk': 1125, 'imported': 2339, 'homes': 2219, 'driver': 1498, 'colleagues': 993, 'duque': 1519, 'onboard': 3150, 'bhi': 593, 'forecast': 1919, 'voluntary': 4756, 'links': 2681, 'operations': 3164, '96': 193, 'characteristics': 870, 'infec': 2384, 'edges': 1553, 'obvious': 3118, 'coronavirusindia': 1119, 'held': 2171, 'comparison': 1025, 'repo': 3729, 'furious': 1984, 'danish': 1257, 'flag': 1874, 'birth': 617, 'cna': 971, 'weighs': 4827, 'dollars': 1465, 'cuts': 1240, 'cou': 1150, 'diego': 1391, 'sec': 3908, 'approves': 414, 'slight': 4076, '150': 39, 'groups': 2090, '2009': 59, 'foreigners': 1924, 'regional': 3688, 'vector': 4710, 'chicken': 887, 'ultimate': 4631, 'narrative': 3002, 'amount': 356, 'proves': 3536, 'badly': 514, 'suit': 4309, 'airpods': 303, 'accidentally': 222, 'designed': 1350, 'domestic': 1466, 'union': 4650, 'involved': 2439, 'cope': 1098, 'survivor': 4345, 'confusion': 1054, 'woes': 4889, 'suppliers': 4319, 'mode': 2922, 'remote': 3718, 'prepping': 3458, 'wise': 4881, 'outlet': 3194, 'tens': 4417, 'sends': 3941, 'letter': 2648, 'liang': 2654, 'natural': 3011, 'starbucks': 4210, 'motivation': 2962, 'bin': 605, 'riots': 3790, 'dean': 1284, 'ride': 3786, 'revenue': 3779, 'exotic': 1700, '3m': 110, 'denmark': 1338, 'potentially': 3416, 'hhs': 2185, 'maker': 2771, 'citizentvkenya': 929, 'miami': 2880, 'judge': 2514, 'ohio': 3138, 'bangladesh': 522, 'impose': 2342, 'onto': 3156, 'caa': 755, 'hampshire': 2121, 'determined': 1363, 'spend': 4163, 'delays': 1320, 'isolating': 2456, 'advanced': 258, 'labour': 2575, 'financialtimes': 1851, 'vox': 4759, 'kits': 2549, 'iphones': 2442, 'universal': 4656, 'mandatory': 2788, 'criminal': 1199, 'gdp': 2006, 'immigration': 2323, 'whistleblowers': 4845, 'donated': 1469, 'aggressive': 287, 'drive': 1496, 'drives': 1500, 'ally': 331, 'cor': 1100, 'projected': 3509, 'heavy': 2169, 'unlike': 4662, 'male': 2780, 'em': 1580, 'cancer': 778, 'employee': 1592, 'columbia': 996, 'doc': 1452, 'foothold': 1912, 'neither': 3035, 'controlling': 1091, 'roni': 3810, 'caryn': 801, 'denise': 1337, 'grady': 2078, 'birmingham': 616, 'looked': 2719, 'project': 3508, 'knock': 2552, 'demands': 1332, 'cartoon': 800, 'request': 3738, 'workplace': 4904, 'hill': 2196, 'ta': 4371, 'cracks': 1184, 'creates': 1191, 'laugh': 2600, 'water': 4801, 'spooks': 4171, 'whats': 4840, 'target': 4386, '82': 177, 'azar': 505, 'describes': 1346, 'activities': 238, 'cock': 982, 'journey': 2511, 'mesa': 2868, 'initial': 2404, 'alive': 322, 'mcdonald': 2831, 'newest': 3046, 'loveisland': 2737, 'irrational': 2449, 'listening': 2684, 'artificially': 444, 'commissioner': 1010, 'crack': 1183, 'hawaii': 2146, 'honolulu': 2226, 'robots': 3804, 'deliver': 1325, 'regular': 3692, 'risky': 3798, 'grown': 2093, 'breakthrough': 689, 'detroit': 1364, 'provided': 3538, 'blocks': 635, 'opens': 3162, '840': 180, 'powerful': 3421, 'recommend': 3661, 'homeless': 2218, 'deliberately': 1324, 'bound': 667, 'arrivals': 435, 'corruption': 1143, 'infectiousdisease': 2391, 'moron': 2955, 'shortages': 4012, 'realise': 3641, 'pc': 3272, '131': 28, 'various': 4708, 'businessman': 747, 'catholic': 815, 'ken': 2526, '974': 195, '132': 29, 'cares': 791, '1700': 45, 'samples': 3844, 'deals': 1283, 'whistle': 4843, 'sale': 3840, 'discrimination': 1420, 'jet': 2489, 'flies': 1882, 'suppose': 4323, 'johnson': 2498, 'policy': 3385, 'dick': 1386, 'superbowl': 4316, 'valentine': 4701, 'repatriation': 3728, '280': 87, 'bathroom': 539, 'arrested': 431, 'explore': 1725, 'reliable': 3704, 'successfully': 4297, 'peo': 3283, 'md': 2832, 'bowl': 669, '37': 106, 'develops': 1371, 'debunked': 1289, 'disinformation': 1436, 'plead': 3364, 'hindi': 2197, 'reserve': 3745, 'racists': 3599, '2012': 62, 'israeli': 2459, 'weight': 4828, 'twt': 4618, 'leaked': 2623, 'main': 2762, 'sf': 3971, 'doomed': 1475, 'feces': 1810, 'urine': 4681, 'legitimate': 2641, 'xpress': 4958, 'offering': 3127, 'police': 3384, 'cow': 1179, 'dung': 1518, 'pheic': 3313, 'bubble': 724, 'conversation': 1093, 'bnodesk': 645, 'alex': 318, 'birds': 615, 'outbr': 3188, 'final': 1847, 'briefly': 698, 'ncov2020': 3021, 'med': 2843, 'indonesian': 2373, 'searches': 3904, 'airways': 306, 'armed': 427, 'uses': 4691, 'thin': 4453, 'retail': 3768, 'stall': 4201, 'david': 1267, 'expectations': 1706, 'quarter': 3577, 'ministers': 2903, 'flow': 1891, 'locations': 2704, 'feedly': 1814, 'prisonplanet': 3484, 'includes': 2349, 'bjp': 623, 'rules': 3819, 'thai': 4437, 'disinfect': 1432, 'operation': 3163, 'transfer': 4546, 'wears': 4814, 'heal': 2156, 'base': 531, 'freedom': 1954, '97': 194, 'pt': 3545, 'mini': 2900, 'mum': 2979, 'forcing': 1918, 'constantly': 1064, 'recession': 3659, 'vir': 4734, 'mission': 2913, 'isolate': 2453, '2002': 57, 'covered': 1172, 'sample': 3843, 'piss': 3332, 'surpass': 4333, 'prison': 3482, 'overtake': 3206, 'outrage': 3198, 'chances': 862, 'manufacturing': 2793, 'abuja': 212, 'disabled': 1406, 'cash': 805, 'modi': 2930, 'ji': 2490, 'gauge': 2003, 'csse': 1223, 'billions': 604, 'pe': 3274, 'jack': 2473, 'coronaravirus': 1106, 'droplet': 1505, 'viruscorona': 4742, 'leg': 2637, 'sk': 4063, 'mixed': 2918, 'panel': 3233, 'bacterial': 512, 'closures': 963, 'spell': 4160, 'closer': 959, 'eminem': 1589, 'breathing': 692, 'defeat': 1308, 'facing': 1755, 'permission': 3297, 'tsla': 4596, 'deliveries': 1326, 'surpassing': 4335, 'com': 997, 'select': 3929, 'wrapup': 4926, 'mongering': 2939, 'fellow': 1821, 'prove': 3534, 'coronavirusupdates': 1126, 'cybersecurity': 1244, 'ridiculous': 3787, 'roger': 3805, 'opec': 3158, 'analysts': 360, 'billionaire': 603, 'donates': 1470, 'tariffs': 4391, 'moon': 2950, 'commodities': 1012, 'compelling': 1026, 'bag': 515, 'tragic': 4542, 'truly': 4588, 'suspending': 4352, 'believing': 579, 'journalist': 2509, 'accuses': 228, 'responds': 3755, 'zhang': 4992, 'removing': 3722, 'aid': 294, 'experiment': 1713, 'disaster': 1411, 'believes': 578, 'coronovirusoutbreak': 1137, 'refund': 3679, 'abuse': 213, 'truths': 4592, 'adverse': 259, 'scrutiny': 3897, '240': 77, 'chairman': 855, 'powell': 3418, 'web': 4816, 'dis': 1405, 'wwg1wga': 4951, 'clorox': 955, 'disinfecting': 1434, 'wipes': 4877, 'fauci': 1793, 'lebanese': 2632, 'disruption': 1441, 'dirty': 1404, 'discovers': 1417, 'failure': 1767, '6th': 156, 'families': 1777, 'church': 920, 'disruptions': 1442, 'coworker': 1180, 'behavior': 572, 'psa': 3544, 'santa': 3851, 'clara': 937, 'discussing': 1424, 'shareaholic': 3986, 'sex': 3970, 'elizabeth': 1577, 'warren': 4789, 'sellers': 3932, 'scmp': 3884, 'sentomcotton': 3949, 'hoarders': 2209, 'progress': 3506, 'fearing': 1802, 'offices': 3132, '8th': 184, 'aboard': 208, 'service': 3959, 'mix': 2917, 'null': 3103, 'fired': 1864, 'kudlow': 2568, 'explode': 1722, 'overwatch': 3208, 'thedailybeast': 4442, 'pays': 3271, 'dictatorship': 1387, 'wuhanacuterespiratorysyndrome': 4939, 'makeshift': 2774, 'england': 1608, 'economies': 1547, 'chains': 854, 'launched': 2605, 'additional': 247, 'pla': 3335, 'dua': 1513, 'deeply': 1307, 'gym': 2110, 'tweak': 4610, 'structure': 4276, 'writes': 4928, 'entirely': 1618, 'raised': 3604, 'hurting': 2276, 'offensive': 3125, 'imho': 2319, 'newsfeed': 3050, 'diary': 1385, 'fansigns': 1781, 'allowed': 328, 'harm': 2137, 'prophet': 3521, 'prohibited': 3507, '136': 31, 'eaten': 1540, 'currency': 1234, 'charges': 872, 'sig': 4032, 'code': 984, 'duterte': 1521, 'focuses': 1900, 'fm': 1896, 'formula': 1932, 'swan': 4357, 'coronavirusph': 1123, 'forward': 1935, 'lawmakers': 2609, 'coronaviruswho': 1129, 'hea': 2148, 'ki': 2533, 'ne': 3025, 'plea': 3363, 'faqs': 1782, '2011': 61, 'spare': 4143, 'filipino': 1840, 'overtakes': 3207, 'surviving': 4344, 'monitors': 2944, 'warm': 4782, 'friendly': 1961, 'fair': 1768, 'plant': 3352, 'giants': 2027, 'detail': 1355, 'hun': 2270, 'sen': 3936, 'bath': 538, 'incredible': 2357, 'nintendo': 3074, 'gatewaypundit': 2001, 'king': 2545, 'overcome': 3202, 'coz': 1181, 'ukraine': 4629, 'insurance': 2416, 'evolution': 1684, 'herbal': 2182, 'prevents': 3470, 'mess': 2869, 'washingtonpost': 4795, 'maintain': 2766, 'liner': 2676, 'ethiopian': 1655, 'cgtnofficial': 851, '47': 124, 'tencent': 4415, 'relative': 3698, 'epi': 1623, 'dems': 1334, 'gatherings': 2002, 'metrouk': 2875, 'infe': 2383, 'cc': 829, 'shipments': 3997, 'decrease': 1303, 'asean': 447, 'indefinitely': 2361, 'creator': 1193, 'id': 2290, 'defends': 1310, 'docks': 1456, 'slowdown': 4079, 'treasury': 4565, 'smart': 4086, 'phones': 3318, 'travels': 4563, 'jail': 2476, 'expo': 1726, 'wilbur': 4863, 'access': 220, 'plagued': 3340, '75': 165, 'intelligence': 2419, 'dollar': 1464, 'ports': 3399, 'shipping': 3999, 'dalio': 1249, 'bhai': 592, 'cruiseship': 1215, 'communities': 1017, 'corporate': 1138, 'owing': 3210, 'launches': 2606, 'underground': 4642, 'eastern': 1537, 'standwithhongkong': 4207, 'huoshenshan': 2274, 'underreporting': 4643, 'docked': 1454, 'thejournal': 4445, 'cl': 932, 'ben': 580, 'visa': 4744, 'likes': 2667, 'facial': 1752, 'adviser': 263, 'sos': 4127, 'method': 2872, 'wars': 4790, 'plot': 3368, 'chernobyl': 884, 'enters': 1616, 'shocked': 4004, 'occurred': 3123, 'blocked': 633, 'beautiful': 556, 'facility': 1754, 'wirral': 4879, 'misterantibully': 2915, 'emotet': 1591, 'malware': 2781, 'whilst': 4842, 'therapy': 4450, 'hug': 2262, 'sea': 3899, 'boris': 659, 'bonds': 652, 'situations': 4059, 'controls': 1092, 'wuhancoronavirusoutbreak': 4942, 'acute': 242, 'alternative': 341, 'manufacturers': 2792, 'qu': 3572, '171': 46, 'purchase': 3557, 'sit': 4056, 'hardest': 2136, 'instagram': 2413, 'acid': 229, 'officers': 3131, 'insider': 2412, 'recoveries': 3669, 'simpsons': 4046, 'cry': 1219, 'cutting': 1241, 'aw': 498, 'pmi': 3375, 'climatechange': 947, 'territory': 4423, 'rome': 3809, 'worker': 4901, 'italia': 2465, 'marked': 2806, 'infant': 2382, 'protein': 3529, '09': 9, 'genocide': 2014, 'mill': 2895, '20k': 68, 'knocked': 2553, 'theeconomist': 4443, 'royal': 3816, 'exponential': 1727, '213': 71, 'moms': 2934, 'impressive': 2345, 'coronavirususa': 1128, 'cnnpolitics': 978, '692': 155, 'disembark': 1429, 'para': 3240, 'fb': 1796, 'speech': 4158, 'ninth': 3075, 'hunt': 2273, 'telebriefing': 4406, 'steady': 4229, 'resistance': 3748, 'targeting': 4388, 'corrupt': 1142, 'humming': 2268, 'subway': 4295, 'outlook': 3196, 'writing': 4929, 'wedding': 4819, 'met': 2871, 'diversity': 1450, 'carnival': 793, 'funds': 1982, 'vaccinate': 4698, 'pacific': 3219, 'responses': 3757, 'culture': 1227, 'cures': 1232, 'ntd': 3101, 'costa': 1146, 'milan': 2890, 'facemask': 1749, 'diamond': 1381, 'industrial': 2378, 'brexitday': 695, 'myanmar': 2989, 'uganda': 4623, 'manchester': 2787, 'distance': 1444, 'annual': 373, 'unions': 4651, 'newcastle': 3045, 'sbs': 3863, 'mps': 2973, 'skyrocket': 4070, 'vulnerable': 4762, 'pulling': 3553, 'cisco': 924, 'ncyt': 3023, 'filled': 1843, 'seconds': 3910, 'preparation': 3449, 'counting': 1159, 'evacuee': 1667, 'monetary': 2937, 'majeure': 2767, 'professionals': 3500, 'device': 1372, 'chiefs': 890, 'copper': 1099, 'skysportsnews': 4071, 'benedictrogers': 581, 'appearing': 406, 'correct': 1140, 'brand': 677, 'worldhealthorganization': 4908, 'sciences': 3880, 'africans': 279, 'reacts': 3633, 'factors': 1759, 'makers': 2772, 'mining': 2901, 'organizers': 3176, '236': 75, 'kiss': 2547, 'webinar': 4817, 'treatments': 4570, '425': 116, 'argument': 423, 'intentionally': 2421, 'sidelines': 4030, 'producing': 3494, 'attacked': 473, 'diagnostic': 1379, 'novacyt': 3094, 'sn': 4094, 'cybercriminals': 1243, 'violent': 4733, 'max': 2827, 'slams': 4072, 'medication': 2847, 'june': 2518, 'coronavirusitalia': 1120, 'direction': 1402, 'unique': 4652, 'chinazi': 903, 'pentagon': 3282, 'hopes': 2229, 'queens': 3580, 'lng': 2696, 'drones': 1503, 'indoors': 2375, 'las': 2590, 'bulletin': 734, 'wave': 4802, 'innovation': 2406, '34': 99, 'ighalo': 2301, 'personally': 3301, 'investing': 2435, 'gaming': 1996, 'impacting': 2330, 'clown': 966, 'sequenced': 3953, 'gay': 2005, '324': 97, 'gilead': 2029, 'squad': 4190, 'remdesivir': 3712, 'lift': 2660, 'ukrainian': 4630, 'breakout': 687, 'anthony': 379, 'rea': 3626, 'volunteer': 4757, 'stable': 4196, '10k': 18, '98': 196, '7th': 170, 'walmart': 4772, 'myth': 2992, 'joined': 2500, 'elsewhere': 1579, 'utd': 4695, 'scams': 3866, '249': 79, 'repatriated': 3727, 'contains': 1076, 'insertions': 2410, 'stoking': 4243, 'rescue': 3740, 'shooting': 4007, '259': 83, 'recognition': 3660, 'freezerohedge': 1955, 'mainly': 2764, 'removes': 3721, 'dozen': 1486, 'r0': 3593, '770': 167, 'fujifilm': 1975, 'bw': 752, 'joint': 2502, 'una': 4634, 'beings': 575, 'taxi': 4394, 'qantas': 3568, 'mice': 2881, 'cottrell': 1149, 'casino': 806, 'percent': 3288, 'removed': 3720, 'admin': 251, 'coach': 980, 'filter': 1845, 'ski': 4064, 'perspective': 3304, 'jong': 2507, 'malaria': 2776, 'confined': 1048, 'paid': 3226, 'pulls': 3554, 'withdraws': 4885, 'pee': 3278, 'dates': 1265, 'lesson': 2643, 'censorship': 841, 'drone': 1502, 'defense': 1311, 'lungs': 2745, 'abandoned': 201, 'exploiting': 1724, 'rare': 3616, '20th': 69, 'obama': 3116, 'eighth': 1569, 'chickens': 888, 'relationship': 3697, 'expresses': 1735, 'ships': 4000, 'elite': 1576, 'birdflu': 614, 'disappointed': 1410, 'abe': 205, 'combination': 999, 'cpho': 1182, 'afb': 268, 'censoring': 840, '304': 94, 'enemy': 1602, 'devastating': 1365, '380': 108, 'periscope': 3295, 'heartgang': 2166, 'spreadluv': 4183, 'acc': 214, 'preppers': 3457, 'nomeat': 3081, 'nocoronavirus': 3080, 'sin': 4048, 'pax': 3268, 'dea': 1275, 'worship': 4920, 'saint': 3838, 'rampal': 3610, 'maharaj': 2759, 'coronarivus': 1107, 'shelter': 3992, '115': 21, 'doors': 1478, 'houses': 2251, 'avian': 494, 'finishes': 1859, 'cremated': 1197, 'clusters': 970, 'apps': 415, 'urged': 4678, 'commands': 1005, 'firm': 1866, 'mixture': 2919, 'weakness': 4807, 'myths': 2993, 'artificial': 443, 'punished': 3555, '02': 4, 'lea': 2614, 'newsmax': 3053, 'barcelona': 528, 'focused': 1899, 'properly': 3518, 'wine': 4872, 'foreigner': 1923, 'planes': 3347, 'hair': 2117, 'apparent': 400, 'success': 4296, 'cocktail': 983, 'mitigate': 2916, 'suppress': 4325, 'delivery': 1328, 'bases': 533, 'relevant': 3703, 'prank': 3426, 'overall': 3201, 'exposing': 1732, 'kuo': 2570, 'lowers': 2740, 'shipment': 3996, 'marat': 2799, 'combined': 1000, 'candidate': 779, 'escapes': 1643, 'promising': 3511, 'resume': 3767, '140': 35, '9th': 198, 'software': 4106, 'models': 2927, 'fuels': 1974, '361': 104, '362': 105, 'coronavrius': 1132, 'ignorance': 2302, 'trillion': 4581, 'secretive': 3914, 'reopen': 3724, '93': 190, 'extended': 1737, 'assuming': 466, 'chip': 907, '11th': 23, 'globaltimesnews': 2042, 'garlic': 1997, 'diarrhea': 1384, 'prejudice': 3445, 'cap': 782, 'trials': 4575, 'equipment': 1633, 'rescued': 3741, 'ecb': 1543, 'threatened': 4470, 'comedian': 1002, 'leak': 2622, 'discharge': 1413, 'goods': 2059, 'clothes': 964, 'eventually': 1674, 'clips': 953, 'dance': 1253, 'rejected': 3693, 'remedies': 3713, 'mwc2020': 2988, 'clues': 968, 'discriminate': 1419, 'moral': 2952, 'nears': 3028, 'iceberg': 2287, 'produce': 3493, 'defend': 1309, 'rages': 3602, 'susceptible': 4346, 'zhejiang': 4993, 'rebound': 3651, 'linger': 2678, 'pl': 3334, 'pulled': 3552, 'bioweapons': 612, 'topics': 4513, 'arrest': 430, 'shortcomings': 4013, 'boyle': 672, 'prix': 3487, 'slashes': 4073, '64': 150, 'israelis': 2460, 'flawed': 1877, 'brit': 704, 'gordon': 2065, 'themed': 4447, 'curecancer': 1230, 'trueworship': 4587, 'ps5': 3543, '427': 117, 'attend': 476, 'pull': 3551, 'valid': 4702, 'travis': 4564, 'casinos': 807, 'conferences': 1045, 'microscope': 2884, '06': 7, 'chloroquine': 908, 'effectively': 1562, '94': 191, 'envision': 1621, 'cointelegraph': 988, 'phishing': 3316, 'definition': 1314, 'plants': 3353, 'wanting': 4777, 'tedros': 4405, 'hyundai': 2283, 'fiction': 1831, 'sotu': 4128, 'johnshopkins': 2497, 'nike': 3071, 'defies': 1312, 'suggesting': 4306, 'session': 3961, 'lg': 2652, 'exports': 1729, 'denied': 1335, 'princess': 3477, '490': 126, 'arirang': 424, 'widely': 4857, 'yokohama': 4980, 'route': 3815, 'princesscruises': 3478, 'mwc': 2987, '138': 32, 'computers': 1030, 'withdraw': 4884, 'unpaid': 4665, 'jenniferatntd': 2486, 'training': 4544, 'maria': 2803, 'optimism': 3167, 'prayforwuhan': 3430, 'adidas': 250, 'frank': 1950, 'pods': 3379, 'sony': 4122, 'shadow': 3975, 'dock': 1453, 'math': 2823, 'newborn': 3044, 'babies': 507, '118': 22, 'christ': 914, 'christians': 916, 'iata': 2285, 'electronics': 1574, '12th': 25, 'flash': 1875, 'docking': 1455, 'kfc': 2531, '602': 144, '564': 136, '910': 188, 'corononavirus': 1135, 'coronavirusus': 1127, 'ambitions': 347, 'worldometer': 4910, '15th': 40, '018': 3, 'buyers': 750, 'guests': 2103, 'youngest': 4983, '560': 135, 'square': 4191, 'crosses': 1205, 'korle': 2567, '589': 138, 'assembly': 458, 'emissions': 1590, 'disinfection': 1435, 'reliance': 3705, '28000': 88, 'pastor': 3259, 'brighton': 699, 'sounded': 4130, 'hero': 2183, 'wenliang': 4832, 'wind': 4869, 'alleged': 324, 'authoritarian': 488, 'disrupts': 1443, 'outer': 3193, 'sect': 3916, 'blower': 641, 'fifty': 1834, 'finance': 1849, 'antonio': 384, '638': 149, '636': 148, 'failing': 1765, 'peaked': 3277, 'rage': 3601, 'ignored': 2305, 'fairs': 1769, 'approval': 412, 'infodemic': 2397, 'realjameswoods': 3646, 'prisons': 3485, 'pangolins': 3235, 'sixty': 4062, 'dangers': 1256, 'rolls': 3808, 'chronic': 918, 'pangolin': 3234, 'fewer': 1827, '86': 182, 'dire': 1400, 'diamondprincess': 1382, 'powered': 3420, 'coronavius': 1131, 'wartime': 4791, 'persist': 3298, 'hq': 2255, 'reopening': 3725, '143': 36, 'fecal': 1809, '722': 161, '805': 173, 'nvidia': 3108, 'sanders': 3848, 'torture': 4517, '724': 163, 'discussed': 1422, '723': 162, '355': 102, 'chalet': 856, 'restart': 3760, 'valued': 4705, 'odion': 3124, 'pegasus': 3279, 'coronavirustruth': 1124, 'alps': 337, 'aerosol': 266, 'spreader': 4180, 'forcibly': 1917, 'nazis': 3013, '811': 175, 'revenues': 3780, 'ncp': 3022, '813': 176, 'limbo': 2669, 'prophecy': 3520, 'stagger': 4199, 'globalists': 2040, 'oly': 3144, 'qiushi': 3570, 'dele': 1321, 'hotpot': 2246, 'stephen': 4234, 'alli': 326, 'apologises': 398, 'empties': 1595, '85': 181, '1981': 52, '908': 187, 'hsbc': 2257, 'visitor': 4749, 'inflation': 2393, 'parasite': 3242, 'creepy': 1196, '135': 30, 'nissan': 3076, 'gsma': 2096, 'recovering': 3670, 'forecasts': 1920, 'coronavirusfacts': 1117, 'loans': 2699, 'crunch': 1216, '108': 17, 'sacked': 3832, 'mistakenly': 2914, 'pipes': 3330, 'eases': 1533, 'intel': 2418, 'criteria': 1201, 'playstation': 3362, 'unchecked': 4639, 'coronavirusjapan': 1121, '13th': 33, 'covid': 1175, 'covid19': 1176, 'galaxy': 1993, 'hotspots': 2247, 'stagnates': 4200, 'covid2019': 1178, 'dbs': 1272, 'westerdam': 4835, '105': 15, 'bakker': 518, '242': 78, 'daegu': 1247, '14th': 37, 'sarscov2': 3853, 'hotbed': 2242, 'militarization': 2893, 'darkness': 1260, '254': 82, 'rural': 3827, 'covd19': 1169, 'stimulus': 4240, 'strongly': 4274, 'towns': 4531, '090': 10, 'condemn': 1040, 'vanished': 4707, 'runway': 3826, 'koontz': 2563, 'imf': 2318, 'coronavtj': 1133, 'religious': 3709, 'modelers': 2924, 'chronicle': 919, '92': 189, '71': 160, 'marathon': 2800, 'liu': 2688, 'zhiming': 4994, 'jaguar': 2475, 'preetbharara': 3441, 'magu': 2758, 'omaha': 3147, 'covid19airborne': 1177, 'efcc': 1559, 'lcc': 2612, 'expels': 1710, 'incinerators': 2347, 'qom': 3571, 'cult': 1226, 'assaults': 457, 'g20': 1990, 'lebanon': 2633, 'narrowing': 3003, 'lombardy': 2714, 'relatives': 3699, 'untraceable': 4668, 'giorgio': 2030, 'armani': 426, 'venice': 4713}\n"
          ]
        }
      ]
    },
    {
      "cell_type": "code",
      "source": [
        "# Initiating the support vector machine \n",
        "\n",
        "svm_model = SVC(probability = True,kernel='linear')\n",
        "svm_model.fit(X_train_tfidf, y_train )"
      ],
      "metadata": {
        "colab": {
          "base_uri": "https://localhost:8080/"
        },
        "id": "zsfVN0rGvIi-",
        "outputId": "530574e6-dd67-4d8d-bb3f-50279a88441a"
      },
      "execution_count": null,
      "outputs": [
        {
          "output_type": "execute_result",
          "data": {
            "text/plain": [
              "SVC(kernel='linear', probability=True)"
            ]
          },
          "metadata": {},
          "execution_count": 61
        }
      ]
    },
    {
      "cell_type": "code",
      "source": [
        "# Prediction Results for test data\n",
        "\n",
        "svm_predictions = svm_model.predict(X_test_tfidf)\n",
        "test_prediction = pd.DataFrame()\n",
        "test_prediction['tweet'] = X_test\n",
        "test_prediction['label'] = svm_predictions\n",
        "#test_prediction"
      ],
      "metadata": {
        "id": "6i4cyhV_vNC-"
      },
      "execution_count": null,
      "outputs": []
    },
    {
      "cell_type": "code",
      "source": [
        "test_prediction['label'].value_counts()"
      ],
      "metadata": {
        "colab": {
          "base_uri": "https://localhost:8080/"
        },
        "id": "SJBgwJdXwuIg",
        "outputId": "8e25fcbf-31ef-40c6-ca66-19b693c57c48"
      },
      "execution_count": null,
      "outputs": [
        {
          "output_type": "execute_result",
          "data": {
            "text/plain": [
              "neu    7356\n",
              "neg    1331\n",
              "pos     313\n",
              "Name: label, dtype: int64"
            ]
          },
          "metadata": {},
          "execution_count": 64
        }
      ]
    },
    {
      "cell_type": "code",
      "source": [
        "ConfusionMatrixDisplay.from_predictions(y_test, svm_predictions,cmap='Blues')"
      ],
      "metadata": {
        "colab": {
          "base_uri": "https://localhost:8080/",
          "height": 297
        },
        "id": "OhiTtjz6wyBf",
        "outputId": "2bb36a76-ba2a-41bb-d380-912b8b8cb143"
      },
      "execution_count": null,
      "outputs": [
        {
          "output_type": "execute_result",
          "data": {
            "text/plain": [
              "<sklearn.metrics._plot.confusion_matrix.ConfusionMatrixDisplay at 0x7f7de8801ed0>"
            ]
          },
          "metadata": {},
          "execution_count": 65
        },
        {
          "output_type": "display_data",
          "data": {
            "text/plain": [
              "<Figure size 432x288 with 2 Axes>"
            ],
            "image/png": "[encoded data removed]"
          },
          "metadata": {
            "needs_background": "light"
          }
        }
      ]
    },
    {
      "cell_type": "code",
      "source": [
        "svm_accuracy = accuracy_score(svm_predictions, y_test)*100\n",
        "svm_accuracy"
      ],
      "metadata": {
        "colab": {
          "base_uri": "https://localhost:8080/"
        },
        "id": "UyzghESmw0JA",
        "outputId": "b2f1551f-6b29-4b78-bd11-019301d3ec3c"
      },
      "execution_count": null,
      "outputs": [
        {
          "output_type": "execute_result",
          "data": {
            "text/plain": [
              "89.07777777777778"
            ]
          },
          "metadata": {},
          "execution_count": 66
        }
      ]
    },
    {
      "cell_type": "code",
      "source": [
        "print(\"Classification Report:\")\n",
        "print(classification_report(y_test, svm_predictions))"
      ],
      "metadata": {
        "colab": {
          "base_uri": "https://localhost:8080/"
        },
        "id": "ZYeXeyygw17_",
        "outputId": "f501eb32-2721-4e7f-915f-9e14be2ce4f5"
      },
      "execution_count": null,
      "outputs": [
        {
          "output_type": "stream",
          "name": "stdout",
          "text": [
            "Classification Report:\n",
            "              precision    recall  f1-score   support\n",
            "\n",
            "         neg       0.87      0.73      0.80      1591\n",
            "         neu       0.90      0.97      0.93      6828\n",
            "         pos       0.79      0.42      0.55       581\n",
            "\n",
            "    accuracy                           0.89      9000\n",
            "   macro avg       0.85      0.71      0.76      9000\n",
            "weighted avg       0.89      0.89      0.88      9000\n",
            "\n"
          ]
        }
      ]
    },
    {
      "cell_type": "code",
      "source": [],
      "metadata": {
        "id": "SARWfpNgAnfa"
      },
      "execution_count": null,
      "outputs": []
    }
  ]
}